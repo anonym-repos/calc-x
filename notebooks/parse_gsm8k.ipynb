{
    "cells": [
        {
            "cell_type": "code",
            "execution_count": 72,
            "metadata": {},
            "outputs": [],
            "source": [
                "import os\n",
                "import random\n",
                "import string\n",
                "\n",
                "import datasets\n",
                "import transformers\n",
                "import pandas as pd\n",
                "\n",
                "import gadgets"
            ]
        },
        {
            "cell_type": "code",
            "execution_count": 73,
            "metadata": {},
            "outputs": [],
            "source": [
                "ds = datasets.load_dataset(\"gsm8k\", \"main\")"
            ]
        },
        {
            "cell_type": "code",
            "execution_count": 74,
            "metadata": {},
            "outputs": [],
            "source": [
                "assert set(ds.keys()) == {\"train\", \"test\"}"
            ]
        },
        {
            "cell_type": "code",
            "execution_count": 75,
            "metadata": {},
            "outputs": [],
            "source": [
                "id_chars = list(string.ascii_letters + string.digits)"
            ]
        },
        {
            "cell_type": "code",
            "execution_count": 77,
            "metadata": {},
            "outputs": [
                {
                    "name": "stderr",
                    "output_type": "stream",
                    "text": [
                        "/home/xkadlci2/gadgets/gadgets/markup.py:14: MarkupResemblesLocatorWarning: The input looks more like a filename than markup. You may want to open this file and pass the filehandle into Beautiful Soup.\n",
                        "  return bs4.BeautifulSoup(step, features=\"html.parser\")\n",
                        "/home/xkadlci2/gadgets/gadgets/markup.py:14: MarkupResemblesLocatorWarning: The input looks more like a filename than markup. You may want to open this file and pass the filehandle into Beautiful Soup.\n",
                        "  return bs4.BeautifulSoup(step, features=\"html.parser\")\n"
                    ]
                }
            ],
            "source": [
                "calc = gadgets.gadget.Calculator()\n",
                "\n",
                "col_order = [\"id\", \"question\", \"chain\", \"result\", \"result_float\"]\n",
                "\n",
                "df = {}\n",
                "for split in ds.keys():\n",
                "    random.seed(f\"gsm8k/{split}\")\n",
                "    df[split] = ds[split].to_pandas()\n",
                "    df[split][\"id\"] = \"gsm8k__\" + pd.Series([\"\".join(random.choices(id_chars, k=16)) for _ in range(len(df[split]))])\n",
                "    examples = df[split].apply(gadgets.gsm8k.parse, axis=1)\n",
                "    df[split].drop(columns=[\"answer\"], inplace=True)\n",
                "    df[split][\"chain\"] = examples.apply(lambda x: gadgets.markup.to_model_markup(example=x)).apply(str)\n",
                "    df[split][\"result\"] = examples.apply(lambda x: x.result)\n",
                "    df[split][\"result_float\"] = df[split][\"result\"].apply(calc._float_eval)\n",
                "    df[split] = df[split][col_order]"
            ]
        },
        {
            "cell_type": "code",
            "execution_count": 78,
            "metadata": {},
            "outputs": [
                {
                    "data": {
                        "text/plain": [
                            "True"
                        ]
                    },
                    "execution_count": 78,
                    "metadata": {},
                    "output_type": "execute_result"
                }
            ],
            "source": [
                "pd.concat(df.values())[\"id\"].is_unique"
            ]
        },
        {
            "cell_type": "code",
            "execution_count": 79,
            "metadata": {},
            "outputs": [
                {
                    "data": {
                        "application/vnd.jupyter.widget-view+json": {
                            "model_id": "1404e5faf96c48909c9e18d48133ad8b",
                            "version_major": 2,
                            "version_minor": 0
                        },
                        "text/plain": [
                            "Pushing dataset shards to the dataset hub:   0%|          | 0/1 [00:00<?, ?it/s]"
                        ]
                    },
                    "metadata": {},
                    "output_type": "display_data"
                },
                {
                    "data": {
                        "application/vnd.jupyter.widget-view+json": {
                            "model_id": "9aaf2f287d284d9583db940c312e52de",
                            "version_major": 2,
                            "version_minor": 0
                        },
                        "text/plain": [
                            "Pushing dataset shards to the dataset hub:   0%|          | 0/1 [00:00<?, ?it/s]"
                        ]
                    },
                    "metadata": {},
                    "output_type": "display_data"
                },
                {
                    "data": {
                        "application/vnd.jupyter.widget-view+json": {
                            "model_id": "0be1956429354e7d9204a8afcb0c6106",
                            "version_major": 2,
                            "version_minor": 0
                        },
                        "text/plain": [
                            "Downloading metadata:   0%|          | 0.00/3.43k [00:00<?, ?B/s]"
                        ]
                    },
                    "metadata": {},
                    "output_type": "display_data"
                }
            ],
            "source": [
                "ds_orig_split = datasets.DatasetDict({\n",
                "    \"train\": datasets.Dataset.from_pandas(df[\"train\"]),\n",
                "    \"test\": datasets.Dataset.from_pandas(df[\"test\"]),\n",
                "})\n",
                "\n",
                "#ds_orig_split.push_to_hub(\"anonym-repos/Calc-gsm8k\", config_name=\"original-splits\")"
            ]
        },
        {
            "cell_type": "code",
            "execution_count": 85,
            "metadata": {},
            "outputs": [
                {
                    "data": {
                        "text/plain": [
                            "{'id': 'gsm8k__78q96B0Sp8u3aEJj',\n",
                            " 'question': 'Natalia sold clips to 48 of her friends in April, and then she sold half as many clips in May. How many clips did Natalia sell altogether in April and May?',\n",
                            " 'chain': 'Natalia sold 48/2 = \\n<gadget id=\"calculator\">48/2</gadget>\\n<output>24</output>\\n24 clips in May.\\nNatalia sold 48+24 = \\n<gadget id=\"calculator\">48+24</gadget>\\n<output>72</output>\\n72 clips altogether in April and May.\\n\\n<result>72</result>',\n",
                            " 'result': '72',\n",
                            " 'result_float': 72.0}"
                        ]
                    },
                    "execution_count": 85,
                    "metadata": {},
                    "output_type": "execute_result"
                }
            ],
            "source": [
                "datasets.load_dataset(\"anonym-repos/Calc-gsm8k\", \"original-splits\")"
            ]
        },
        {
            "cell_type": "code",
            "execution_count": null,
            "metadata": {},
            "outputs": [],
            "source": []
        }
    ],
    "metadata": {
        "kernelspec": {
            "display_name": "gadgets",
            "language": "python",
            "name": "python3"
        },
        "language_info": {
            "codemirror_mode": {
                "name": "ipython",
                "version": 3
            },
            "file_extension": ".py",
            "mimetype": "text/x-python",
            "name": "python",
            "nbconvert_exporter": "python",
            "pygments_lexer": "ipython3",
            "version": "3.10.12"
        },
        "orig_nbformat": 4
    },
    "nbformat": 4,
    "nbformat_minor": 2
}