{
    "cells": [
        {
            "cell_type": "code",
            "execution_count": 1,
            "metadata": {},
            "outputs": [],
            "source": [
                "import pprint\n",
                "import string\n",
                "import itertools\n",
                "\n",
                "import datasets\n",
                "import pandas as pd\n",
                "import numpy as np\n",
                "import torch\n",
                "import joblib\n",
                "import scipy.sparse\n",
                "import sklearn.feature_extraction\n",
                "\n",
                "\n",
                "ds_names = [\n",
                "    \"anonym-repos/Calc-gsm8k\",\n",
                "    \"anonym-repos/Calc-aqua_rat\",\n",
                "    \"anonym-repos/Calc-math_qa\",\n",
                "    \"anonym-repos/Calc-ape210k\",\n",
                "    \"anonym-repos/Calc-mawps\",\n",
                "    \"anonym-repos/Calc-svamp\",\n",
                "    \"anonym-repos/Calc-asdiv_a\",\n",
                "]"
            ]
        },
        {
            "cell_type": "code",
            "execution_count": 2,
            "metadata": {},
            "outputs": [
                {
                    "data": {
                        "application/vnd.jupyter.widget-view+json": {
                            "model_id": "3b64f7ae5d604396bafe429d9fd0ef33",
                            "version_major": 2,
                            "version_minor": 0
                        },
                        "text/plain": [
                            "Downloading readme:   0%|          | 0.00/3.46k [00:00<?, ?B/s]"
                        ]
                    },
                    "metadata": {},
                    "output_type": "display_data"
                },
                {
                    "data": {
                        "application/vnd.jupyter.widget-view+json": {
                            "model_id": "77e4916b70054a98a87b4d58167cfbbd",
                            "version_major": 2,
                            "version_minor": 0
                        },
                        "text/plain": [
                            "Downloading readme:   0%|          | 0.00/6.09k [00:00<?, ?B/s]"
                        ]
                    },
                    "metadata": {},
                    "output_type": "display_data"
                },
                {
                    "data": {
                        "application/vnd.jupyter.widget-view+json": {
                            "model_id": "5eada7575bbb4617a1094abd5d18d9bd",
                            "version_major": 2,
                            "version_minor": 0
                        },
                        "text/plain": [
                            "Downloading readme:   0%|          | 0.00/4.98k [00:00<?, ?B/s]"
                        ]
                    },
                    "metadata": {},
                    "output_type": "display_data"
                },
                {
                    "data": {
                        "application/vnd.jupyter.widget-view+json": {
                            "model_id": "d147b1e7c0cd4ba7a6ea6d96d127c97f",
                            "version_major": 2,
                            "version_minor": 0
                        },
                        "text/plain": [
                            "Downloading readme:   0%|          | 0.00/4.34k [00:00<?, ?B/s]"
                        ]
                    },
                    "metadata": {},
                    "output_type": "display_data"
                },
                {
                    "data": {
                        "application/vnd.jupyter.widget-view+json": {
                            "model_id": "909c717d1570488fa79bf73470a1bf82",
                            "version_major": 2,
                            "version_minor": 0
                        },
                        "text/plain": [
                            "Downloading readme:   0%|          | 0.00/3.69k [00:00<?, ?B/s]"
                        ]
                    },
                    "metadata": {},
                    "output_type": "display_data"
                },
                {
                    "data": {
                        "application/vnd.jupyter.widget-view+json": {
                            "model_id": "766fd55f685b43ffbe88b69db9531d8c",
                            "version_major": 2,
                            "version_minor": 0
                        },
                        "text/plain": [
                            "Downloading readme:   0%|          | 0.00/3.58k [00:00<?, ?B/s]"
                        ]
                    },
                    "metadata": {},
                    "output_type": "display_data"
                },
                {
                    "data": {
                        "application/vnd.jupyter.widget-view+json": {
                            "model_id": "8ea6a14101cf4b8cab95b2dee393c8e5",
                            "version_major": 2,
                            "version_minor": 0
                        },
                        "text/plain": [
                            "Downloading readme:   0%|          | 0.00/1.27k [00:00<?, ?B/s]"
                        ]
                    },
                    "metadata": {},
                    "output_type": "display_data"
                }
            ],
            "source": [
                "keep_symbols = set(string.ascii_lowercase.lower() + \" \")\n",
                "dss = {}\n",
                "split_names = set()\n",
                "\n",
                "for full_name in ds_names:\n",
                "    ds = datasets.load_dataset(full_name, \"original-splits\")\n",
                "    ds_name = full_name.split(\"/\")[-1].lower()\n",
                "    for split_name, split in ds.items():\n",
                "        split_names.add(split_name)\n",
                "        key = ds_name, split_name\n",
                "        dss[key] = split.to_pandas()[[\"question\", \"chain\", \"result\"]]\n",
                "        dss[key][\"question_simplified\"] = (\n",
                "            dss[key][\"question\"]\n",
                "            .str.encode(\"ascii\", errors=\"ignore\")\n",
                "            .str.decode(\"ascii\")\n",
                "            .str.lower()\n",
                "            .str.split()\n",
                "            .str.join(\" \")\n",
                "            .apply(lambda text: \"\".join([c for c in text if c in keep_symbols]))\n",
                "            .str.split()\n",
                "            .str.join(\" \")\n",
                "        )"
            ]
        },
        {
            "cell_type": "code",
            "execution_count": 3,
            "metadata": {},
            "outputs": [],
            "source": [
                "bow_ngrams_vectorizer = sklearn.feature_extraction.text.CountVectorizer(binary=True, dtype=np.int32, ngram_range=(1, 2))\n",
                "\n",
                "bow_ngrams_vectorizer.fit(\n",
                "    itertools.chain.from_iterable(ds[\"question_simplified\"] for ds in dss.values())\n",
                ")\n",
                "\n",
                "bows = {}\n",
                "\n",
                "for key, ds in dss.items():\n",
                "    bows[key] = bow_ngrams_vectorizer.transform(ds[\"question_simplified\"])"
            ]
        },
        {
            "cell_type": "code",
            "execution_count": 4,
            "metadata": {},
            "outputs": [],
            "source": [
                "def pairwise_jaccard_sim(bows_1: scipy.sparse.csr_matrix, bows_2: scipy.sparse.csr_matrix) -> np.ndarray:\n",
                "    \"\"\"\n",
                "    Computes the Jaccard distance between each row of X matrix and each row of Y matrix.\n",
                "    \"\"\"\n",
                "    sizes_of_1 = bows_1.getnnz(axis=1).astype(np.float32)\n",
                "    sizes_of_2 = bows_2.getnnz(axis=1).astype(np.float32)\n",
                "    intersect = (bows_1 @ bows_2.T).toarray().astype(np.float32)\n",
                "    union = sizes_of_1.reshape(-1, 1) + sizes_of_2.reshape(1, -1) - intersect\n",
                "    with np.errstate(divide='ignore', invalid='ignore'):\n",
                "        result = intersect / union\n",
                "        np.nan_to_num(result, nan=0, posinf=0, neginf=0, copy=False)\n",
                "    return result\n",
                "\n",
                "\n",
                "def get_highest_k_matches(scores: torch.Tensor, k: int):\n",
                "    top_in_rows = torch.topk(k=k, dim=1, sorted=False, largest=True, input=scores)\n",
                "    top_in_cols = torch.topk(k=k, dim=1, sorted=False, largest=True, input=scores.T)\n",
                "    return top_in_rows, top_in_cols\n",
                "\n",
                "\n",
                "def check_leak(bows_1, bows_2, top_k=10):\n",
                "    scores = pairwise_jaccard_sim(bows_1, bows_2)\n",
                "    return get_highest_k_matches(torch.tensor(scores), k=top_k)"
            ]
        },
        {
            "cell_type": "code",
            "execution_count": 5,
            "metadata": {},
            "outputs": [
                {
                    "name": "stdout",
                    "output_type": "stream",
                    "text": [
                        "[(('calc-gsm8k', 'train'), ('calc-gsm8k', 'test')),\n",
                        " (('calc-gsm8k', 'train'), ('calc-aqua_rat', 'test')),\n",
                        " (('calc-gsm8k', 'train'), ('calc-aqua_rat', 'validation')),\n",
                        " (('calc-gsm8k', 'train'), ('calc-math_qa', 'test')),\n",
                        " (('calc-gsm8k', 'train'), ('calc-math_qa', 'validation')),\n",
                        " (('calc-gsm8k', 'train'), ('calc-ape210k', 'test')),\n",
                        " (('calc-gsm8k', 'train'), ('calc-ape210k', 'validation')),\n",
                        " (('calc-gsm8k', 'train'), ('calc-mawps', 'test')),\n",
                        " (('calc-gsm8k', 'train'), ('calc-mawps', 'validation')),\n",
                        " (('calc-gsm8k', 'train'), ('calc-svamp', 'test')),\n",
                        " (('calc-gsm8k', 'train'), ('calc-asdiv_a', 'test')),\n",
                        " (('calc-aqua_rat', 'train'), ('calc-gsm8k', 'test')),\n",
                        " (('calc-aqua_rat', 'train'), ('calc-aqua_rat', 'test')),\n",
                        " (('calc-aqua_rat', 'train'), ('calc-aqua_rat', 'validation')),\n",
                        " (('calc-aqua_rat', 'train'), ('calc-math_qa', 'test')),\n",
                        " (('calc-aqua_rat', 'train'), ('calc-math_qa', 'validation')),\n",
                        " (('calc-aqua_rat', 'train'), ('calc-ape210k', 'test')),\n",
                        " (('calc-aqua_rat', 'train'), ('calc-ape210k', 'validation')),\n",
                        " (('calc-aqua_rat', 'train'), ('calc-mawps', 'test')),\n",
                        " (('calc-aqua_rat', 'train'), ('calc-mawps', 'validation')),\n",
                        " (('calc-aqua_rat', 'train'), ('calc-svamp', 'test')),\n",
                        " (('calc-aqua_rat', 'train'), ('calc-asdiv_a', 'test')),\n",
                        " (('calc-math_qa', 'train'), ('calc-gsm8k', 'test')),\n",
                        " (('calc-math_qa', 'train'), ('calc-aqua_rat', 'test')),\n",
                        " (('calc-math_qa', 'train'), ('calc-aqua_rat', 'validation')),\n",
                        " (('calc-math_qa', 'train'), ('calc-math_qa', 'test')),\n",
                        " (('calc-math_qa', 'train'), ('calc-math_qa', 'validation')),\n",
                        " (('calc-math_qa', 'train'), ('calc-ape210k', 'test')),\n",
                        " (('calc-math_qa', 'train'), ('calc-ape210k', 'validation')),\n",
                        " (('calc-math_qa', 'train'), ('calc-mawps', 'test')),\n",
                        " (('calc-math_qa', 'train'), ('calc-mawps', 'validation')),\n",
                        " (('calc-math_qa', 'train'), ('calc-svamp', 'test')),\n",
                        " (('calc-math_qa', 'train'), ('calc-asdiv_a', 'test')),\n",
                        " (('calc-ape210k', 'train'), ('calc-gsm8k', 'test')),\n",
                        " (('calc-ape210k', 'train'), ('calc-aqua_rat', 'test')),\n",
                        " (('calc-ape210k', 'train'), ('calc-aqua_rat', 'validation')),\n",
                        " (('calc-ape210k', 'train'), ('calc-math_qa', 'test')),\n",
                        " (('calc-ape210k', 'train'), ('calc-math_qa', 'validation')),\n",
                        " (('calc-ape210k', 'train'), ('calc-ape210k', 'test')),\n",
                        " (('calc-ape210k', 'train'), ('calc-ape210k', 'validation')),\n",
                        " (('calc-ape210k', 'train'), ('calc-mawps', 'test')),\n",
                        " (('calc-ape210k', 'train'), ('calc-mawps', 'validation')),\n",
                        " (('calc-ape210k', 'train'), ('calc-svamp', 'test')),\n",
                        " (('calc-ape210k', 'train'), ('calc-asdiv_a', 'test')),\n",
                        " (('calc-mawps', 'train'), ('calc-gsm8k', 'test')),\n",
                        " (('calc-mawps', 'train'), ('calc-aqua_rat', 'test')),\n",
                        " (('calc-mawps', 'train'), ('calc-aqua_rat', 'validation')),\n",
                        " (('calc-mawps', 'train'), ('calc-math_qa', 'test')),\n",
                        " (('calc-mawps', 'train'), ('calc-math_qa', 'validation')),\n",
                        " (('calc-mawps', 'train'), ('calc-ape210k', 'test')),\n",
                        " (('calc-mawps', 'train'), ('calc-ape210k', 'validation')),\n",
                        " (('calc-mawps', 'train'), ('calc-mawps', 'test')),\n",
                        " (('calc-mawps', 'train'), ('calc-mawps', 'validation')),\n",
                        " (('calc-mawps', 'train'), ('calc-svamp', 'test')),\n",
                        " (('calc-mawps', 'train'), ('calc-asdiv_a', 'test'))]\n",
                        "55\n"
                    ]
                }
            ],
            "source": [
                "check_leaks = []\n",
                "for ds_name_1, ds_split_name_1 in dss.keys():\n",
                "    for ds_name_2, ds_split_name_2 in dss.keys():\n",
                "        if ds_split_name_1 == \"train\" and ds_split_name_2 != \"train\":\n",
                "            check_leaks.append(((ds_name_1, ds_split_name_1), (ds_name_2, ds_split_name_2)))\n",
                "\n",
                "\n",
                "pprint.pprint(check_leaks)\n",
                "print(len(check_leaks))"
            ]
        },
        {
            "cell_type": "code",
            "execution_count": 6,
            "metadata": {},
            "outputs": [],
            "source": [
                "candidates = {}\n",
                "\n",
                "with joblib.Parallel(n_jobs=-1) as parallel:\n",
                "    jobs = (joblib.delayed(check_leak)(bows[ds_1], bows[ds_2]) for ds_1, ds_2 in check_leaks)\n",
                "    results = parallel(jobs)\n",
                "    for (ds_train, ds_eval), leak_candidates in zip(check_leaks, results):\n",
                "        candidates[ds_train, ds_eval] = leak_candidates\n"
            ]
        },
        {
            "cell_type": "code",
            "execution_count": 7,
            "metadata": {},
            "outputs": [
                {
                    "name": "stdout",
                    "output_type": "stream",
                    "text": [
                        "29.92% of calc-aqua_rat/test             examples appear similar to some examples in calc-aqua_rat/train\n",
                        "-> 2.20% of calc-aqua_rat/train         examples would have to be dropped\n",
                        "\n",
                        "24.80% of calc-aqua_rat/validation       examples appear similar to some examples in calc-aqua_rat/train\n",
                        "-> 0.36% of calc-aqua_rat/train         examples would have to be dropped\n",
                        "\n",
                        "98.52% of calc-math_qa/test              examples appear similar to some examples in calc-aqua_rat/train\n",
                        "-> 24.65% of calc-aqua_rat/train         examples would have to be dropped\n",
                        "\n",
                        "98.13% of calc-math_qa/validation        examples appear similar to some examples in calc-aqua_rat/train\n",
                        "-> 30.98% of calc-aqua_rat/train         examples would have to be dropped\n",
                        "\n",
                        "9.06% of calc-aqua_rat/test             examples appear similar to some examples in calc-math_qa/train\n",
                        "-> 1.76% of calc-math_qa/train          examples would have to be dropped\n",
                        "\n",
                        "6.69% of calc-aqua_rat/validation       examples appear similar to some examples in calc-math_qa/train\n",
                        "-> 0.43% of calc-math_qa/train          examples would have to be dropped\n",
                        "\n",
                        "85.61% of calc-math_qa/test              examples appear similar to some examples in calc-math_qa/train\n",
                        "-> 41.21% of calc-math_qa/train          examples would have to be dropped\n",
                        "\n",
                        "85.27% of calc-math_qa/validation        examples appear similar to some examples in calc-math_qa/train\n",
                        "-> 50.90% of calc-math_qa/train          examples would have to be dropped\n",
                        "\n",
                        "59.77% of calc-ape210k/test              examples appear similar to some examples in calc-ape210k/train\n",
                        "-> 20.94% of calc-ape210k/train          examples would have to be dropped\n",
                        "\n",
                        "59.69% of calc-ape210k/validation        examples appear similar to some examples in calc-ape210k/train\n",
                        "-> 20.91% of calc-ape210k/train          examples would have to be dropped\n",
                        "\n",
                        "77.50% of calc-mawps/test                examples appear similar to some examples in calc-mawps/train\n",
                        "-> 56.16% of calc-mawps/train            examples would have to be dropped\n",
                        "\n",
                        "77.88% of calc-mawps/validation          examples appear similar to some examples in calc-mawps/train\n",
                        "-> 63.78% of calc-mawps/train            examples would have to be dropped\n",
                        "\n",
                        "5.25% of calc-asdiv_a/test              examples appear similar to some examples in calc-mawps/train\n",
                        "-> 2.04% of calc-mawps/train            examples would have to be dropped\n",
                        "\n"
                    ]
                }
            ],
            "source": [
                "threshold = 0.5\n",
                "print_examples = False\n",
                "\n",
                "for (ds_train, ds_eval), (train_sim, eval_sim) in candidates.items():\n",
                "    is_mostly_formula_problem = (dss[ds_eval][\"question_simplified\"].apply(len) / dss[ds_eval][\"question\"].apply(len)) < 0.5\n",
                "    # example of mostly_formula_problem is: Solve 2x + 3x^2 + 8/5 = 1295\n",
                "    # on those examples, we don't want to check for similarity on words\n",
                "    sus_mask = (eval_sim.values > threshold) # has shape (len_eval, top_k)\n",
                "    sus_mask[is_mostly_formula_problem] = False\n",
                "    suspicious_frac = sus_mask.any(dim=1).float().mean().item()\n",
                "    if suspicious_frac > 0.05:\n",
                "        print(f\"{suspicious_frac:.2%} of {'/'.join(ds_eval):<30} examples appear similar to some examples in {'/'.join(ds_train)}\")\n",
                "        sus_mask_in_train = (train_sim.values > threshold).any(dim=1).float().mean().item()\n",
                "        print(f\"-> {sus_mask_in_train:.2%} of {'/'.join(ds_train):<27} examples would have to be dropped\")\n",
                "        print()\n",
                "        if not print_examples:\n",
                "            continue\n",
                "        all_sus_eval_idxs, train_nth_similar = sus_mask.nonzero(as_tuple=True)\n",
                "        sample = torch.randint(0, len(all_sus_eval_idxs), (10,))\n",
                "        sampled_sus_eval_idxs = all_sus_eval_idxs[sample]\n",
                "        sampled_train_nth_similar = train_nth_similar[sample]\n",
                "        sampled_eval_questions = dss[ds_eval][\"question\"].iloc[sampled_sus_eval_idxs]\n",
                "        sampled_train_questions = dss[ds_train][\"question\"].iloc[eval_sim.indices[sampled_sus_eval_idxs, sampled_train_nth_similar]]\n",
                "        sampled_similarities = eval_sim.values[sampled_sus_eval_idxs, sampled_train_nth_similar]\n",
                "        for eval_question, train_question, similarity in zip(sampled_eval_questions, sampled_train_questions, sampled_similarities):\n",
                "            print(\"  eval: \", eval_question)\n",
                "            print(\"  train:\", train_question)\n",
                "            print(f\"  {similarity=:.2f}\")\n",
                "            print()\n",
                "\n",
                "        print()\n",
                "        print(\"-\" * 100)\n"
            ]
        },
        {
            "cell_type": "code",
            "execution_count": 8,
            "metadata": {},
            "outputs": [],
            "source": [
                "# Data leaks:\n",
                "# aqua_rat train -> math_qa test + validation (whole math_qa seems to be a subset of aqua_rat train) \n",
                "# math_qa train -> math_qa test + validation\n",
                "# aqua_rat train -> aqua_rat test + validation\n",
                "# ape210k train -> ape210k test + validation\n",
                "# mawps train -> mawps test + validation + asdiv_a/test\n",
                "\n",
                "# What will differ in Calc-X collection from original datasets:\n",
                "# gsm8k: create validation sample from train, because it has none originally\n",
                "# svamp: it's ok, will be the same\n",
                "# asdiv: it's ok, will be the same\n",
                "# mawps: will have filtered train set\n",
                "# ape210k: will have filtered test + validation sets (they are large enough anyways and this is less lossy than filtering train)\n",
                "# math_qa: won't have any test and validation set - they are leaked in both math_qa/train and aqua_rat/train \n",
                "# aqua_rat: will have filtered train set because we lose little data and validation and test sets are small originally"
            ]
        },
        {
            "cell_type": "code",
            "execution_count": 9,
            "metadata": {},
            "outputs": [
                {
                    "name": "stdout",
                    "output_type": "stream",
                    "text": [
                        "torch.Size([3636])\n"
                    ]
                },
                {
                    "data": {
                        "text/plain": [
                            "tensor(0.7005)"
                        ]
                    },
                    "execution_count": 9,
                    "metadata": {},
                    "output_type": "execute_result"
                }
            ],
            "source": [
                "mawps_leak_with_test = (candidates[(\"calc-mawps\", \"train\"), (\"calc-mawps\", \"test\")][0].values > threshold).any(dim=1)\n",
                "mawps_leak_with_val = (candidates[(\"calc-mawps\", \"train\"), (\"calc-mawps\", \"validation\")][0].values > threshold).any(dim=1)\n",
                "mawps_leak_with_asdiv = (candidates[(\"calc-mawps\", \"train\"), (\"calc-asdiv_a\", \"test\")][0].values > threshold).any(dim=1)\n",
                "mawps_train_leak = (mawps_leak_with_test | mawps_leak_with_val | mawps_leak_with_asdiv)\n",
                "print(mawps_train_leak.shape)\n",
                "mawps_train_leak.float().mean()"
            ]
        },
        {
            "cell_type": "code",
            "execution_count": 10,
            "metadata": {},
            "outputs": [
                {
                    "data": {
                        "text/html": [
                            "<div>\n",
                            "<style scoped>\n",
                            "    .dataframe tbody tr th:only-of-type {\n",
                            "        vertical-align: middle;\n",
                            "    }\n",
                            "\n",
                            "    .dataframe tbody tr th {\n",
                            "        vertical-align: top;\n",
                            "    }\n",
                            "\n",
                            "    .dataframe thead th {\n",
                            "        text-align: right;\n",
                            "    }\n",
                            "</style>\n",
                            "<table border=\"1\" class=\"dataframe\">\n",
                            "  <thead>\n",
                            "    <tr style=\"text-align: right;\">\n",
                            "      <th></th>\n",
                            "      <th>question</th>\n",
                            "      <th>chain</th>\n",
                            "      <th>result</th>\n",
                            "      <th>question_simplified</th>\n",
                            "    </tr>\n",
                            "  </thead>\n",
                            "  <tbody>\n",
                            "    <tr>\n",
                            "      <th>2</th>\n",
                            "      <td>Mark had 2 Doll. Roland proffered him some mor...</td>\n",
                            "      <td>&lt;gadget id=\"calculator\"&gt;161 - 2&lt;/gadget&gt;\\n&lt;out...</td>\n",
                            "      <td>159</td>\n",
                            "      <td>mark had doll roland proffered him some more n...</td>\n",
                            "    </tr>\n",
                            "    <tr>\n",
                            "      <th>4</th>\n",
                            "      <td>Gloria had some raspberry. Margaret gave him 7...</td>\n",
                            "      <td>&lt;gadget id=\"calculator\"&gt;33 - 7&lt;/gadget&gt;\\n&lt;outp...</td>\n",
                            "      <td>26</td>\n",
                            "      <td>gloria had some raspberry margaret gave him mo...</td>\n",
                            "    </tr>\n",
                            "    <tr>\n",
                            "      <th>7</th>\n",
                            "      <td>Tina had 7 raspberry . He hash each raspberry ...</td>\n",
                            "      <td>&lt;gadget id=\"calculator\"&gt;10 * 7&lt;/gadget&gt;\\n&lt;outp...</td>\n",
                            "      <td>70</td>\n",
                            "      <td>tina had raspberry he hash each raspberry into...</td>\n",
                            "    </tr>\n",
                            "    <tr>\n",
                            "      <th>10</th>\n",
                            "      <td>Ernesto had some pear. Jimmie gave him 8 more....</td>\n",
                            "      <td>&lt;gadget id=\"calculator\"&gt;35 - 8&lt;/gadget&gt;\\n&lt;outp...</td>\n",
                            "      <td>27</td>\n",
                            "      <td>ernesto had some pear jimmie gave him more now...</td>\n",
                            "    </tr>\n",
                            "    <tr>\n",
                            "      <th>11</th>\n",
                            "      <td>Elizabeth had some cherry. Don took 74 from hi...</td>\n",
                            "      <td>&lt;gadget id=\"calculator\"&gt;74 + 74&lt;/gadget&gt;\\n&lt;out...</td>\n",
                            "      <td>148</td>\n",
                            "      <td>elizabeth had some cherry don took from him no...</td>\n",
                            "    </tr>\n",
                            "    <tr>\n",
                            "      <th>...</th>\n",
                            "      <td>...</td>\n",
                            "      <td>...</td>\n",
                            "      <td>...</td>\n",
                            "      <td>...</td>\n",
                            "    </tr>\n",
                            "    <tr>\n",
                            "      <th>3617</th>\n",
                            "      <td>Crystal had 178 blackberry. Michael took 55 fr...</td>\n",
                            "      <td>&lt;gadget id=\"calculator\"&gt;178 - 55&lt;/gadget&gt;\\n&lt;ou...</td>\n",
                            "      <td>123</td>\n",
                            "      <td>crystal had blackberry michael took from him n...</td>\n",
                            "    </tr>\n",
                            "    <tr>\n",
                            "      <th>3622</th>\n",
                            "      <td>Josephine had some blackberry. Katharine gave ...</td>\n",
                            "      <td>&lt;gadget id=\"calculator\"&gt;44 - 5&lt;/gadget&gt;\\n&lt;outp...</td>\n",
                            "      <td>39</td>\n",
                            "      <td>josephine had some blackberry katharine gave h...</td>\n",
                            "    </tr>\n",
                            "    <tr>\n",
                            "      <th>3623</th>\n",
                            "      <td>On Friday, Fred paid $5.92 each on 2 tickets t...</td>\n",
                            "      <td>&lt;gadget id=\"calculator\"&gt;2 * 5.92&lt;/gadget&gt;\\n&lt;ou...</td>\n",
                            "      <td>1.37</td>\n",
                            "      <td>on friday fred paid each on tickets to a movie...</td>\n",
                            "    </tr>\n",
                            "    <tr>\n",
                            "      <th>3625</th>\n",
                            "      <td>Jerome had 209 strawberry. Janet grabbed some ...</td>\n",
                            "      <td>&lt;gadget id=\"calculator\"&gt;209 - 56&lt;/gadget&gt;\\n&lt;ou...</td>\n",
                            "      <td>153</td>\n",
                            "      <td>jerome had strawberry janet grabbed some straw...</td>\n",
                            "    </tr>\n",
                            "    <tr>\n",
                            "      <th>3628</th>\n",
                            "      <td>Donita had 89 avocado. Maria took 41 from him....</td>\n",
                            "      <td>&lt;gadget id=\"calculator\"&gt;89 - 41&lt;/gadget&gt;\\n&lt;out...</td>\n",
                            "      <td>48</td>\n",
                            "      <td>donita had avocado maria took from him now how...</td>\n",
                            "    </tr>\n",
                            "  </tbody>\n",
                            "</table>\n",
                            "<p>1089 rows × 4 columns</p>\n",
                            "</div>"
                        ],
                        "text/plain": [
                            "                                               question  \\\n",
                            "2     Mark had 2 Doll. Roland proffered him some mor...   \n",
                            "4     Gloria had some raspberry. Margaret gave him 7...   \n",
                            "7     Tina had 7 raspberry . He hash each raspberry ...   \n",
                            "10    Ernesto had some pear. Jimmie gave him 8 more....   \n",
                            "11    Elizabeth had some cherry. Don took 74 from hi...   \n",
                            "...                                                 ...   \n",
                            "3617  Crystal had 178 blackberry. Michael took 55 fr...   \n",
                            "3622  Josephine had some blackberry. Katharine gave ...   \n",
                            "3623  On Friday, Fred paid $5.92 each on 2 tickets t...   \n",
                            "3625  Jerome had 209 strawberry. Janet grabbed some ...   \n",
                            "3628  Donita had 89 avocado. Maria took 41 from him....   \n",
                            "\n",
                            "                                                  chain result  \\\n",
                            "2     <gadget id=\"calculator\">161 - 2</gadget>\\n<out...    159   \n",
                            "4     <gadget id=\"calculator\">33 - 7</gadget>\\n<outp...     26   \n",
                            "7     <gadget id=\"calculator\">10 * 7</gadget>\\n<outp...     70   \n",
                            "10    <gadget id=\"calculator\">35 - 8</gadget>\\n<outp...     27   \n",
                            "11    <gadget id=\"calculator\">74 + 74</gadget>\\n<out...    148   \n",
                            "...                                                 ...    ...   \n",
                            "3617  <gadget id=\"calculator\">178 - 55</gadget>\\n<ou...    123   \n",
                            "3622  <gadget id=\"calculator\">44 - 5</gadget>\\n<outp...     39   \n",
                            "3623  <gadget id=\"calculator\">2 * 5.92</gadget>\\n<ou...   1.37   \n",
                            "3625  <gadget id=\"calculator\">209 - 56</gadget>\\n<ou...    153   \n",
                            "3628  <gadget id=\"calculator\">89 - 41</gadget>\\n<out...     48   \n",
                            "\n",
                            "                                    question_simplified  \n",
                            "2     mark had doll roland proffered him some more n...  \n",
                            "4     gloria had some raspberry margaret gave him mo...  \n",
                            "7     tina had raspberry he hash each raspberry into...  \n",
                            "10    ernesto had some pear jimmie gave him more now...  \n",
                            "11    elizabeth had some cherry don took from him no...  \n",
                            "...                                                 ...  \n",
                            "3617  crystal had blackberry michael took from him n...  \n",
                            "3622  josephine had some blackberry katharine gave h...  \n",
                            "3623  on friday fred paid each on tickets to a movie...  \n",
                            "3625  jerome had strawberry janet grabbed some straw...  \n",
                            "3628  donita had avocado maria took from him now how...  \n",
                            "\n",
                            "[1089 rows x 4 columns]"
                        ]
                    },
                    "execution_count": 10,
                    "metadata": {},
                    "output_type": "execute_result"
                }
            ],
            "source": [
                "dss[\"calc-mawps\", \"train\"][~mawps_train_leak.numpy()]"
            ]
        },
        {
            "cell_type": "code",
            "execution_count": 12,
            "metadata": {},
            "outputs": [
                {
                    "data": {
                        "application/vnd.jupyter.widget-view+json": {
                            "model_id": "b09214bdeb8943708a519aed3508446d",
                            "version_major": 2,
                            "version_minor": 0
                        },
                        "text/plain": [
                            "Pushing dataset shards to the dataset hub:   0%|          | 0/1 [00:00<?, ?it/s]"
                        ]
                    },
                    "metadata": {},
                    "output_type": "display_data"
                },
                {
                    "data": {
                        "application/vnd.jupyter.widget-view+json": {
                            "model_id": "177748f3f8d847d68083fcb5559451ed",
                            "version_major": 2,
                            "version_minor": 0
                        },
                        "text/plain": [
                            "Creating parquet from Arrow format:   0%|          | 0/2 [00:00<?, ?ba/s]"
                        ]
                    },
                    "metadata": {},
                    "output_type": "display_data"
                },
                {
                    "data": {
                        "application/vnd.jupyter.widget-view+json": {
                            "model_id": "d0c9b687d47a44a3b31e7af1d5431d92",
                            "version_major": 2,
                            "version_minor": 0
                        },
                        "text/plain": [
                            "Deleting unused files from dataset repository:   0%|          | 0/1 [00:00<?, ?it/s]"
                        ]
                    },
                    "metadata": {},
                    "output_type": "display_data"
                },
                {
                    "data": {
                        "application/vnd.jupyter.widget-view+json": {
                            "model_id": "a96dc0f4c6aa47ba9391393e920ec9aa",
                            "version_major": 2,
                            "version_minor": 0
                        },
                        "text/plain": [
                            "Pushing dataset shards to the dataset hub:   0%|          | 0/1 [00:00<?, ?it/s]"
                        ]
                    },
                    "metadata": {},
                    "output_type": "display_data"
                },
                {
                    "data": {
                        "application/vnd.jupyter.widget-view+json": {
                            "model_id": "93024dce78c64ffeba83f812b2cf9f14",
                            "version_major": 2,
                            "version_minor": 0
                        },
                        "text/plain": [
                            "Pushing dataset shards to the dataset hub:   0%|          | 0/1 [00:00<?, ?it/s]"
                        ]
                    },
                    "metadata": {},
                    "output_type": "display_data"
                },
                {
                    "data": {
                        "application/vnd.jupyter.widget-view+json": {
                            "model_id": "e97df53ba51a4d7085202c840430dd1c",
                            "version_major": 2,
                            "version_minor": 0
                        },
                        "text/plain": [
                            "Downloading metadata:   0%|          | 0.00/3.69k [00:00<?, ?B/s]"
                        ]
                    },
                    "metadata": {},
                    "output_type": "display_data"
                }
            ],
            "source": [
                "mawps = datasets.load_dataset(\"anonym-repos/Calc-mawps\", \"original-splits\")\n",
                "mawps_new_split = datasets.DatasetDict({\n",
                "    \"train\": datasets.Dataset.from_pandas(mawps[\"train\"].to_pandas()[~mawps_train_leak.numpy()], preserve_index=False),\n",
                "    \"validation\": mawps[\"validation\"],\n",
                "    \"test\": mawps[\"test\"],\n",
                "})\n",
                "# mawps_new_split.push_to_hub(\"anonym-repos/Calc-mawps\")"
            ]
        },
        {
            "cell_type": "code",
            "execution_count": 28,
            "metadata": {},
            "outputs": [
                {
                    "data": {
                        "application/vnd.jupyter.widget-view+json": {
                            "model_id": "6ebb1a14071742a1b32f4382379d7c82",
                            "version_major": 2,
                            "version_minor": 0
                        },
                        "text/plain": [
                            "Pushing dataset shards to the dataset hub:   0%|          | 0/1 [00:00<?, ?it/s]"
                        ]
                    },
                    "metadata": {},
                    "output_type": "display_data"
                },
                {
                    "data": {
                        "application/vnd.jupyter.widget-view+json": {
                            "model_id": "c9f078a9fdb74a94bf4b291c5f91a58c",
                            "version_major": 2,
                            "version_minor": 0
                        },
                        "text/plain": [
                            "Creating parquet from Arrow format:   0%|          | 0/2 [00:00<?, ?ba/s]"
                        ]
                    },
                    "metadata": {},
                    "output_type": "display_data"
                },
                {
                    "data": {
                        "application/vnd.jupyter.widget-view+json": {
                            "model_id": "78d79d36b5144d4e8c4aa5d5961d6b23",
                            "version_major": 2,
                            "version_minor": 0
                        },
                        "text/plain": [
                            "Downloading metadata:   0%|          | 0.00/752 [00:00<?, ?B/s]"
                        ]
                    },
                    "metadata": {},
                    "output_type": "display_data"
                }
            ],
            "source": [
                "asdiv = datasets.load_dataset(\"anonym-repos/Calc-asdiv_a\", \"original-splits\")\n",
                "# asdiv.push_to_hub(\"anonym-repos/Calc-asdiv_a\")"
            ]
        },
        {
            "cell_type": "code",
            "execution_count": 29,
            "metadata": {},
            "outputs": [
                {
                    "data": {
                        "application/vnd.jupyter.widget-view+json": {
                            "model_id": "ca7e01be744349caaaac3462f0618e3e",
                            "version_major": 2,
                            "version_minor": 0
                        },
                        "text/plain": [
                            "Pushing dataset shards to the dataset hub:   0%|          | 0/1 [00:00<?, ?it/s]"
                        ]
                    },
                    "metadata": {},
                    "output_type": "display_data"
                },
                {
                    "data": {
                        "application/vnd.jupyter.widget-view+json": {
                            "model_id": "1562b84a38b147a6b95316c6ced2a197",
                            "version_major": 2,
                            "version_minor": 0
                        },
                        "text/plain": [
                            "Creating parquet from Arrow format:   0%|          | 0/1 [00:00<?, ?ba/s]"
                        ]
                    },
                    "metadata": {},
                    "output_type": "display_data"
                },
                {
                    "data": {
                        "application/vnd.jupyter.widget-view+json": {
                            "model_id": "601a197b35b748e88c7adee37db1ce97",
                            "version_major": 2,
                            "version_minor": 0
                        },
                        "text/plain": [
                            "Downloading metadata:   0%|          | 0.00/3.09k [00:00<?, ?B/s]"
                        ]
                    },
                    "metadata": {},
                    "output_type": "display_data"
                }
            ],
            "source": [
                "svamp = datasets.load_dataset(\"anonym-repos/Calc-svamp\", \"original-splits\")\n",
                "# svamp.push_to_hub(\"anonym-repos/Calc-svamp\")"
            ]
        },
        {
            "cell_type": "code",
            "execution_count": 30,
            "metadata": {},
            "outputs": [
                {
                    "name": "stdout",
                    "output_type": "stream",
                    "text": [
                        "ORIGINAL SPLIT:\n",
                        "DatasetDict({\n",
                        "    test: Dataset({\n",
                        "        features: ['id', 'question', 'chain', 'result', 'result_float'],\n",
                        "        num_rows: 1319\n",
                        "    })\n",
                        "    train: Dataset({\n",
                        "        features: ['id', 'question', 'chain', 'result', 'result_float'],\n",
                        "        num_rows: 7473\n",
                        "    })\n",
                        "})\n",
                        "NEW SPLIT:\n",
                        "DatasetDict({\n",
                        "    train: Dataset({\n",
                        "        features: ['id', 'question', 'chain', 'result', 'result_float'],\n",
                        "        num_rows: 7273\n",
                        "    })\n",
                        "    validation: Dataset({\n",
                        "        features: ['id', 'question', 'chain', 'result', 'result_float'],\n",
                        "        num_rows: 200\n",
                        "    })\n",
                        "    test: Dataset({\n",
                        "        features: ['id', 'question', 'chain', 'result', 'result_float'],\n",
                        "        num_rows: 1319\n",
                        "    })\n",
                        "})\n"
                    ]
                }
            ],
            "source": [
                "gsm8k_orig_split = datasets.load_dataset(\"anonym-repos/Calc-gsm8k\", \"original-splits\")\n",
                "\n",
                "print(\"ORIGINAL SPLIT:\")\n",
                "print(gsm8k_orig_split)\n",
                "seed = 0\n",
                "\n",
                "gsm8k_train_new_split, gsm8k_valid_new_split = gsm8k_orig_split[\"train\"].train_test_split(seed=seed, test_size=200).values()\n",
                "gsm8k_new_split = datasets.DatasetDict({\n",
                "    \"train\": gsm8k_train_new_split,\n",
                "    \"validation\": gsm8k_valid_new_split,\n",
                "    \"test\": gsm8k_orig_split[\"test\"],\n",
                "})\n",
                "print(\"NEW SPLIT:\")\n",
                "print(gsm8k_new_split)"
            ]
        },
        {
            "cell_type": "code",
            "execution_count": 31,
            "metadata": {},
            "outputs": [
                {
                    "data": {
                        "application/vnd.jupyter.widget-view+json": {
                            "model_id": "6b3e554274c14aa392e6ff7049d97078",
                            "version_major": 2,
                            "version_minor": 0
                        },
                        "text/plain": [
                            "Pushing dataset shards to the dataset hub:   0%|          | 0/1 [00:00<?, ?it/s]"
                        ]
                    },
                    "metadata": {},
                    "output_type": "display_data"
                },
                {
                    "data": {
                        "application/vnd.jupyter.widget-view+json": {
                            "model_id": "cfa0e6746e254438a51a9d2eb0cc6500",
                            "version_major": 2,
                            "version_minor": 0
                        },
                        "text/plain": [
                            "Creating parquet from Arrow format:   0%|          | 0/8 [00:00<?, ?ba/s]"
                        ]
                    },
                    "metadata": {},
                    "output_type": "display_data"
                },
                {
                    "data": {
                        "application/vnd.jupyter.widget-view+json": {
                            "model_id": "f569401715734e6eafbc9ea08739268f",
                            "version_major": 2,
                            "version_minor": 0
                        },
                        "text/plain": [
                            "Deleting unused files from dataset repository:   0%|          | 0/1 [00:00<?, ?it/s]"
                        ]
                    },
                    "metadata": {},
                    "output_type": "display_data"
                },
                {
                    "data": {
                        "application/vnd.jupyter.widget-view+json": {
                            "model_id": "087473b9d087422686dfa373caa58150",
                            "version_major": 2,
                            "version_minor": 0
                        },
                        "text/plain": [
                            "Pushing dataset shards to the dataset hub:   0%|          | 0/1 [00:00<?, ?it/s]"
                        ]
                    },
                    "metadata": {},
                    "output_type": "display_data"
                },
                {
                    "data": {
                        "application/vnd.jupyter.widget-view+json": {
                            "model_id": "28d76a2f78584be5893ae34b98539788",
                            "version_major": 2,
                            "version_minor": 0
                        },
                        "text/plain": [
                            "Creating parquet from Arrow format:   0%|          | 0/1 [00:00<?, ?ba/s]"
                        ]
                    },
                    "metadata": {},
                    "output_type": "display_data"
                },
                {
                    "data": {
                        "application/vnd.jupyter.widget-view+json": {
                            "model_id": "53378e6d189048b6ac0d5fc4711944c4",
                            "version_major": 2,
                            "version_minor": 0
                        },
                        "text/plain": [
                            "Deleting unused files from dataset repository:   0%|          | 0/1 [00:00<?, ?it/s]"
                        ]
                    },
                    "metadata": {},
                    "output_type": "display_data"
                },
                {
                    "data": {
                        "application/vnd.jupyter.widget-view+json": {
                            "model_id": "fc905674a7344e659cbaf543c3726ceb",
                            "version_major": 2,
                            "version_minor": 0
                        },
                        "text/plain": [
                            "Pushing dataset shards to the dataset hub:   0%|          | 0/1 [00:00<?, ?it/s]"
                        ]
                    },
                    "metadata": {},
                    "output_type": "display_data"
                },
                {
                    "data": {
                        "application/vnd.jupyter.widget-view+json": {
                            "model_id": "c2345c0c5c084e46831eac8a24a0aa53",
                            "version_major": 2,
                            "version_minor": 0
                        },
                        "text/plain": [
                            "Creating parquet from Arrow format:   0%|          | 0/2 [00:00<?, ?ba/s]"
                        ]
                    },
                    "metadata": {},
                    "output_type": "display_data"
                },
                {
                    "data": {
                        "application/vnd.jupyter.widget-view+json": {
                            "model_id": "33678b8c83a04b508a83661e4be0c37e",
                            "version_major": 2,
                            "version_minor": 0
                        },
                        "text/plain": [
                            "Deleting unused files from dataset repository:   0%|          | 0/1 [00:00<?, ?it/s]"
                        ]
                    },
                    "metadata": {},
                    "output_type": "display_data"
                },
                {
                    "data": {
                        "application/vnd.jupyter.widget-view+json": {
                            "model_id": "8022a43febfa4535811b3210701cab44",
                            "version_major": 2,
                            "version_minor": 0
                        },
                        "text/plain": [
                            "Downloading metadata:   0%|          | 0.00/3.46k [00:00<?, ?B/s]"
                        ]
                    },
                    "metadata": {},
                    "output_type": "display_data"
                }
            ],
            "source": [
                "# gsm8k_new_split.push_to_hub(\"anonym-repos/Calc-gsm8k\")"
            ]
        },
        {
            "cell_type": "code",
            "execution_count": 34,
            "metadata": {},
            "outputs": [
                {
                    "data": {
                        "text/plain": [
                            "DatasetDict({\n",
                            "    train: Dataset({\n",
                            "        features: ['id', 'question', 'chain', 'result', 'result_float', 'question_without_options', 'options', 'annotated_formula', 'linear_formula', 'rationale', 'category'],\n",
                            "        num_rows: 20868\n",
                            "    })\n",
                            "})"
                        ]
                    },
                    "execution_count": 34,
                    "metadata": {},
                    "output_type": "execute_result"
                }
            ],
            "source": [
                "mathqa = datasets.load_dataset(\"anonym-repos/Calc-math_qa\", \"original-splits\")\n",
                "del mathqa[\"validation\"]\n",
                "del mathqa[\"test\"]\n",
                "\n",
                "mathqa"
            ]
        },
        {
            "cell_type": "code",
            "execution_count": 35,
            "metadata": {},
            "outputs": [
                {
                    "data": {
                        "application/vnd.jupyter.widget-view+json": {
                            "model_id": "ee730d62f0af4cf9a92462a1d0e475fe",
                            "version_major": 2,
                            "version_minor": 0
                        },
                        "text/plain": [
                            "Pushing dataset shards to the dataset hub:   0%|          | 0/1 [00:00<?, ?it/s]"
                        ]
                    },
                    "metadata": {},
                    "output_type": "display_data"
                },
                {
                    "data": {
                        "application/vnd.jupyter.widget-view+json": {
                            "model_id": "217b3083017d4773b39df569efad73c9",
                            "version_major": 2,
                            "version_minor": 0
                        },
                        "text/plain": [
                            "Creating parquet from Arrow format:   0%|          | 0/21 [00:00<?, ?ba/s]"
                        ]
                    },
                    "metadata": {},
                    "output_type": "display_data"
                },
                {
                    "data": {
                        "application/vnd.jupyter.widget-view+json": {
                            "model_id": "f8522ed696334e0eb4c0d135173e3611",
                            "version_major": 2,
                            "version_minor": 0
                        },
                        "text/plain": [
                            "Downloading metadata:   0%|          | 0.00/4.15k [00:00<?, ?B/s]"
                        ]
                    },
                    "metadata": {},
                    "output_type": "display_data"
                }
            ],
            "source": [
                "# mathqa.push_to_hub(\"anonym-repos/Calc-math_qa\")"
            ]
        },
        {
            "cell_type": "code",
            "execution_count": 10,
            "metadata": {},
            "outputs": [
                {
                    "data": {
                        "text/plain": [
                            "tensor(1785.)"
                        ]
                    },
                    "execution_count": 10,
                    "metadata": {},
                    "output_type": "execute_result"
                }
            ],
            "source": [
                "(candidates[(\"calc-ape210k\", \"train\"), (\"calc-ape210k\", \"test\")][1].values < 0.50).all(dim=1).float().sum()"
            ]
        },
        {
            "cell_type": "code",
            "execution_count": 36,
            "metadata": {},
            "outputs": [],
            "source": [
                "ape_test_ok = (candidates[(\"calc-ape210k\", \"train\"), (\"calc-ape210k\", \"test\")][1].values < 0.50).all(dim=1)\n",
                "ape_val_ok = (candidates[(\"calc-ape210k\", \"train\"), (\"calc-ape210k\", \"validation\")][1].values < 0.50).all(dim=1)"
            ]
        },
        {
            "cell_type": "code",
            "execution_count": 43,
            "metadata": {},
            "outputs": [
                {
                    "data": {
                        "text/plain": [
                            "DatasetDict({\n",
                            "    train: Dataset({\n",
                            "        features: ['id', 'question', 'question_chinese', 'chain', 'result', 'result_float', 'equation'],\n",
                            "        num_rows: 195179\n",
                            "    })\n",
                            "    validation: Dataset({\n",
                            "        features: ['id', 'question', 'question_chinese', 'chain', 'result', 'result_float', 'equation'],\n",
                            "        num_rows: 1783\n",
                            "    })\n",
                            "    test: Dataset({\n",
                            "        features: ['id', 'question', 'question_chinese', 'chain', 'result', 'result_float', 'equation'],\n",
                            "        num_rows: 1785\n",
                            "    })\n",
                            "})"
                        ]
                    },
                    "execution_count": 43,
                    "metadata": {},
                    "output_type": "execute_result"
                }
            ],
            "source": [
                "ape210k = datasets.load_dataset(\"anonym-repos/Calc-ape210k\", \"original-splits\")\n",
                "ape210k_new_split = datasets.DatasetDict({\n",
                "    \"train\": ape210k[\"train\"],\n",
                "    \"validation\": datasets.Dataset.from_pandas(ape210k[\"validation\"].to_pandas()[ape_val_ok.numpy()], preserve_index=False),\n",
                "    \"test\": datasets.Dataset.from_pandas(ape210k[\"test\"].to_pandas()[ape_test_ok.numpy()], preserve_index=False),\n",
                "})\n",
                "ape210k_new_split"
            ]
        },
        {
            "cell_type": "code",
            "execution_count": 44,
            "metadata": {},
            "outputs": [
                {
                    "data": {
                        "application/vnd.jupyter.widget-view+json": {
                            "model_id": "9cd67b03c27447438ec2992f8f1b7ad0",
                            "version_major": 2,
                            "version_minor": 0
                        },
                        "text/plain": [
                            "Pushing dataset shards to the dataset hub:   0%|          | 0/1 [00:00<?, ?it/s]"
                        ]
                    },
                    "metadata": {},
                    "output_type": "display_data"
                },
                {
                    "data": {
                        "application/vnd.jupyter.widget-view+json": {
                            "model_id": "0fae4895bea2416a9b05cf1e91aa357a",
                            "version_major": 2,
                            "version_minor": 0
                        },
                        "text/plain": [
                            "Creating parquet from Arrow format:   0%|          | 0/196 [00:00<?, ?ba/s]"
                        ]
                    },
                    "metadata": {},
                    "output_type": "display_data"
                },
                {
                    "data": {
                        "application/vnd.jupyter.widget-view+json": {
                            "model_id": "dc70741c4ef54e9d99f49accea8acc8c",
                            "version_major": 2,
                            "version_minor": 0
                        },
                        "text/plain": [
                            "Pushing dataset shards to the dataset hub:   0%|          | 0/1 [00:00<?, ?it/s]"
                        ]
                    },
                    "metadata": {},
                    "output_type": "display_data"
                },
                {
                    "data": {
                        "application/vnd.jupyter.widget-view+json": {
                            "model_id": "f01c39c93c494164bd7df897c84093a8",
                            "version_major": 2,
                            "version_minor": 0
                        },
                        "text/plain": [
                            "Creating parquet from Arrow format:   0%|          | 0/2 [00:00<?, ?ba/s]"
                        ]
                    },
                    "metadata": {},
                    "output_type": "display_data"
                },
                {
                    "data": {
                        "application/vnd.jupyter.widget-view+json": {
                            "model_id": "4ea43b26515e4b5fbcd297560393e003",
                            "version_major": 2,
                            "version_minor": 0
                        },
                        "text/plain": [
                            "Pushing dataset shards to the dataset hub:   0%|          | 0/1 [00:00<?, ?it/s]"
                        ]
                    },
                    "metadata": {},
                    "output_type": "display_data"
                },
                {
                    "data": {
                        "application/vnd.jupyter.widget-view+json": {
                            "model_id": "c3840f7f9a244a5b9b480c2f035f688a",
                            "version_major": 2,
                            "version_minor": 0
                        },
                        "text/plain": [
                            "Creating parquet from Arrow format:   0%|          | 0/2 [00:00<?, ?ba/s]"
                        ]
                    },
                    "metadata": {},
                    "output_type": "display_data"
                },
                {
                    "data": {
                        "application/vnd.jupyter.widget-view+json": {
                            "model_id": "a84abbc438d4482cb4ba9da84740aad8",
                            "version_major": 2,
                            "version_minor": 0
                        },
                        "text/plain": [
                            "Downloading metadata:   0%|          | 0.00/3.62k [00:00<?, ?B/s]"
                        ]
                    },
                    "metadata": {},
                    "output_type": "display_data"
                }
            ],
            "source": [
                "# ape210k_new_split.push_to_hub(\"anonym-repos/Calc-ape210k\")"
            ]
        },
        {
            "cell_type": "code",
            "execution_count": 51,
            "metadata": {},
            "outputs": [
                {
                    "data": {
                        "text/plain": [
                            "(94760, 97467)"
                        ]
                    },
                    "execution_count": 51,
                    "metadata": {},
                    "output_type": "execute_result"
                }
            ],
            "source": [
                "aqua_train_ok = (\n",
                "    (candidates[(\"calc-aqua_rat\", \"train\"), (\"calc-aqua_rat\", \"test\")][0].values < 0.5).all(dim=1)\n",
                "    &\n",
                "    (candidates[(\"calc-aqua_rat\", \"train\"), (\"calc-aqua_rat\", \"validation\")][0].values < 0.5).all(dim=1)\n",
                ")\n",
                "\n",
                "aqua_train_ok.sum().item(), len(aqua_train_ok)"
            ]
        },
        {
            "cell_type": "code",
            "execution_count": 53,
            "metadata": {},
            "outputs": [
                {
                    "data": {
                        "text/plain": [
                            "DatasetDict({\n",
                            "    train: Dataset({\n",
                            "        features: ['id', 'question', 'chain', 'result', 'options', 'question_without_options'],\n",
                            "        num_rows: 94760\n",
                            "    })\n",
                            "    validation: Dataset({\n",
                            "        features: ['id', 'question', 'chain', 'result', 'options', 'question_without_options'],\n",
                            "        num_rows: 254\n",
                            "    })\n",
                            "    test: Dataset({\n",
                            "        features: ['id', 'question', 'chain', 'result', 'options', 'question_without_options'],\n",
                            "        num_rows: 254\n",
                            "    })\n",
                            "})"
                        ]
                    },
                    "execution_count": 53,
                    "metadata": {},
                    "output_type": "execute_result"
                }
            ],
            "source": [
                "aqua = datasets.load_dataset(\"anonym-repos/Calc-aqua_rat\", \"original-splits\")\n",
                "aqua_new_split = datasets.DatasetDict({\n",
                "    \"train\": datasets.Dataset.from_pandas(aqua[\"train\"].to_pandas()[aqua_train_ok.numpy()], preserve_index=False),\n",
                "    \"validation\": aqua[\"validation\"],\n",
                "    \"test\": aqua[\"test\"],\n",
                "})\n",
                "aqua_new_split"
            ]
        },
        {
            "cell_type": "code",
            "execution_count": 54,
            "metadata": {},
            "outputs": [
                {
                    "data": {
                        "application/vnd.jupyter.widget-view+json": {
                            "model_id": "f538d8ac7eb4452680d255558ddce22a",
                            "version_major": 2,
                            "version_minor": 0
                        },
                        "text/plain": [
                            "Pushing dataset shards to the dataset hub:   0%|          | 0/1 [00:00<?, ?it/s]"
                        ]
                    },
                    "metadata": {},
                    "output_type": "display_data"
                },
                {
                    "data": {
                        "application/vnd.jupyter.widget-view+json": {
                            "model_id": "44b617faf3f14203818a86a25c90052f",
                            "version_major": 2,
                            "version_minor": 0
                        },
                        "text/plain": [
                            "Creating parquet from Arrow format:   0%|          | 0/95 [00:00<?, ?ba/s]"
                        ]
                    },
                    "metadata": {},
                    "output_type": "display_data"
                },
                {
                    "data": {
                        "application/vnd.jupyter.widget-view+json": {
                            "model_id": "b98b6050c4dc44a0af8ab061d9a9f764",
                            "version_major": 2,
                            "version_minor": 0
                        },
                        "text/plain": [
                            "Pushing dataset shards to the dataset hub:   0%|          | 0/1 [00:00<?, ?it/s]"
                        ]
                    },
                    "metadata": {},
                    "output_type": "display_data"
                },
                {
                    "data": {
                        "application/vnd.jupyter.widget-view+json": {
                            "model_id": "2ae3ebc91a25481e8e72d7badbcfad6d",
                            "version_major": 2,
                            "version_minor": 0
                        },
                        "text/plain": [
                            "Creating parquet from Arrow format:   0%|          | 0/1 [00:00<?, ?ba/s]"
                        ]
                    },
                    "metadata": {},
                    "output_type": "display_data"
                },
                {
                    "data": {
                        "application/vnd.jupyter.widget-view+json": {
                            "model_id": "7fcea3062dcf4e3d8e4151a6ab5831d1",
                            "version_major": 2,
                            "version_minor": 0
                        },
                        "text/plain": [
                            "Pushing dataset shards to the dataset hub:   0%|          | 0/1 [00:00<?, ?it/s]"
                        ]
                    },
                    "metadata": {},
                    "output_type": "display_data"
                },
                {
                    "data": {
                        "application/vnd.jupyter.widget-view+json": {
                            "model_id": "0fdf9b51bad14c38819c7e63774c9728",
                            "version_major": 2,
                            "version_minor": 0
                        },
                        "text/plain": [
                            "Creating parquet from Arrow format:   0%|          | 0/1 [00:00<?, ?ba/s]"
                        ]
                    },
                    "metadata": {},
                    "output_type": "display_data"
                },
                {
                    "data": {
                        "application/vnd.jupyter.widget-view+json": {
                            "model_id": "d03923eaf51f477aa25c1ffa91a890a5",
                            "version_major": 2,
                            "version_minor": 0
                        },
                        "text/plain": [
                            "Downloading metadata:   0%|          | 0.00/5.25k [00:00<?, ?B/s]"
                        ]
                    },
                    "metadata": {},
                    "output_type": "display_data"
                }
            ],
            "source": [
                "# aqua_new_split.push_to_hub(\"anonym-repos/Calc-aqua_rat\")"
            ]
        },
        {
            "cell_type": "code",
            "execution_count": null,
            "metadata": {},
            "outputs": [],
            "source": []
        }
    ],
    "metadata": {
        "kernelspec": {
            "display_name": "gadgets",
            "language": "python",
            "name": "python3"
        },
        "language_info": {
            "codemirror_mode": {
                "name": "ipython",
                "version": 3
            },
            "file_extension": ".py",
            "mimetype": "text/x-python",
            "name": "python",
            "nbconvert_exporter": "python",
            "pygments_lexer": "ipython3",
            "version": "3.10.12"
        }
    },
    "nbformat": 4,
    "nbformat_minor": 2
}