{
    "cells": [
        {
            "cell_type": "code",
            "execution_count": 1,
            "metadata": {},
            "outputs": [
                {
                    "name": "stdout",
                    "output_type": "stream",
                    "text": [
                        "[2023-10-25 00:05:23,364] [INFO] [real_accelerator.py:133:get_accelerator] Setting ds_accelerator to cuda (auto detect)\n"
                    ]
                }
            ],
            "source": [
                "import warnings\n",
                "from typing import Iterable\n",
                "\n",
                "import pandas as pd\n",
                "import datasets\n",
                "import sympy\n",
                "import lark\n",
                "\n",
                "import gadgets"
            ]
        },
        {
            "cell_type": "code",
            "execution_count": 2,
            "metadata": {},
            "outputs": [
                {
                    "name": "stdout",
                    "output_type": "stream",
                    "text": [
                        "train\n",
                        "Index([ 123,  211,  384,  746,  757,  855, 1241, 1837, 1842, 1949, 2033, 2222,\n",
                        "       2369, 2452, 2493, 2564, 2699, 3143, 3352, 3563, 3597, 3623],\n",
                        "      dtype='int64')\n",
                        "test\n",
                        "Index([2, 175, 253, 388], dtype='int64')\n",
                        "val\n",
                        "Index([70, 108, 618, 728, 777, 778, 896], dtype='int64')\n"
                    ]
                }
            ],
            "source": [
                "df = {}\n",
                "for split in [\"train\", \"test\", \"val\"]:\n",
                "    print(split)\n",
                "    df[split] = pd.read_csv(f\"../data/mawps/original/{split}.csv\", names=[\"problem\", \"equation\", \"problem_arabic\"])[[\"problem\", \"problem_arabic\", \"equation\"]]\n",
                "    df[split][\"expression\"] = df[split][\"equation\"].str.replace(\" \", \"\").str.removeprefix(\"x=\").str.removesuffix(\"=x\")\n",
                "    df[split][\"equation\"] = df[split][\"equation\"]\n",
                "    df[split][\"question\"] = df[split][\"problem\"].str.strip()\n",
                "    #df[split][\"question_arabic\"] = df[split][\"problem_arabic\"].str.strip()\n",
                "    del df[split][\"problem\"]\n",
                "    del df[split][\"problem_arabic\"]\n",
                "    print(df[split][df[split][\"expression\"].str.contains(\"x\")].index)"
            ]
        },
        {
            "cell_type": "code",
            "execution_count": 3,
            "metadata": {},
            "outputs": [],
            "source": [
                "df[\"validation\"] = df[\"val\"]\n",
                "del df[\"val\"]"
            ]
        },
        {
            "cell_type": "code",
            "execution_count": 4,
            "metadata": {},
            "outputs": [
                {
                    "data": {
                        "text/html": [
                            "<div>\n",
                            "<style scoped>\n",
                            "    .dataframe tbody tr th:only-of-type {\n",
                            "        vertical-align: middle;\n",
                            "    }\n",
                            "\n",
                            "    .dataframe tbody tr th {\n",
                            "        vertical-align: top;\n",
                            "    }\n",
                            "\n",
                            "    .dataframe thead th {\n",
                            "        text-align: right;\n",
                            "    }\n",
                            "</style>\n",
                            "<table border=\"1\" class=\"dataframe\">\n",
                            "  <thead>\n",
                            "    <tr style=\"text-align: right;\">\n",
                            "      <th></th>\n",
                            "      <th>equation</th>\n",
                            "      <th>expression</th>\n",
                            "      <th>question</th>\n",
                            "    </tr>\n",
                            "  </thead>\n",
                            "  <tbody>\n",
                            "    <tr>\n",
                            "      <th>123</th>\n",
                            "      <td>85.0=(15.0*x)-20.0</td>\n",
                            "      <td>85.0=(15.0*x)-20.0</td>\n",
                            "      <td>You make candles and sell them for 15 dollars ...</td>\n",
                            "    </tr>\n",
                            "    <tr>\n",
                            "      <th>211</th>\n",
                            "      <td>35+x=83</td>\n",
                            "      <td>35+x=83</td>\n",
                            "      <td>Arthur baked 35 muffins. How many more muffins...</td>\n",
                            "    </tr>\n",
                            "    <tr>\n",
                            "      <th>384</th>\n",
                            "      <td>17+(7*x)=80</td>\n",
                            "      <td>17+(7*x)=80</td>\n",
                            "      <td>Oceanside Bike Rental Shop charges 17 dollars ...</td>\n",
                            "    </tr>\n",
                            "    <tr>\n",
                            "      <th>746</th>\n",
                            "      <td>x*(1.0-(8.0*0.01))=13580.0</td>\n",
                            "      <td>x*(1.0-(8.0*0.01))=13580.0</td>\n",
                            "      <td>A disc jockey now charges 13,580 dollars for a...</td>\n",
                            "    </tr>\n",
                            "    <tr>\n",
                            "      <th>757</th>\n",
                            "      <td>(x-6.0)*4.0=36.0</td>\n",
                            "      <td>(x-6.0)*4.0=36.0</td>\n",
                            "      <td>If I subtract 6 from a number and then multipl...</td>\n",
                            "    </tr>\n",
                            "    <tr>\n",
                            "      <th>855</th>\n",
                            "      <td>1.3333*x=4.82</td>\n",
                            "      <td>1.3333*x=4.82</td>\n",
                            "      <td>1.3333 of a number is 4.82 , what is the number?</td>\n",
                            "    </tr>\n",
                            "    <tr>\n",
                            "      <th>1241</th>\n",
                            "      <td>22+x=55</td>\n",
                            "      <td>22+x=55</td>\n",
                            "      <td>There are 22 walnut trees currently in the par...</td>\n",
                            "    </tr>\n",
                            "    <tr>\n",
                            "      <th>1837</th>\n",
                            "      <td>(0.2*x)-4.0=6.0</td>\n",
                            "      <td>(0.2*x)-4.0=6.0</td>\n",
                            "      <td>0.20 of a number decreased by 4 is equal to 6....</td>\n",
                            "    </tr>\n",
                            "    <tr>\n",
                            "      <th>1842</th>\n",
                            "      <td>((450.0+200.0)+x)/3.0=300.0</td>\n",
                            "      <td>((450.0+200.0)+x)/3.0=300.0</td>\n",
                            "      <td>Martha wants to buy a digital camera from her ...</td>\n",
                            "    </tr>\n",
                            "    <tr>\n",
                            "      <th>1949</th>\n",
                            "      <td>53=7+14+x</td>\n",
                            "      <td>53=7+14+x</td>\n",
                            "      <td>Randy needs 53 cupcakes for a birthday party. ...</td>\n",
                            "    </tr>\n",
                            "    <tr>\n",
                            "      <th>2033</th>\n",
                            "      <td>(2.0*x)-(-8.0)=(-12.0)</td>\n",
                            "      <td>(2.0*x)-(-8.0)=(-12.0)</td>\n",
                            "      <td>The difference between 2 times a number and -8...</td>\n",
                            "    </tr>\n",
                            "    <tr>\n",
                            "      <th>2222</th>\n",
                            "      <td>(0.6*x)-1.0=2.0</td>\n",
                            "      <td>(0.6*x)-1.0=2.0</td>\n",
                            "      <td>A water flow restrictor has reduced the flow o...</td>\n",
                            "    </tr>\n",
                            "    <tr>\n",
                            "      <th>2369</th>\n",
                            "      <td>(x/2)+8=12</td>\n",
                            "      <td>(x/2)+8=12</td>\n",
                            "      <td>Alyssa spent half of her allowance going to th...</td>\n",
                            "    </tr>\n",
                            "    <tr>\n",
                            "      <th>2452</th>\n",
                            "      <td>(4.0*x)-7.0=13.0</td>\n",
                            "      <td>(4.0*x)-7.0=13.0</td>\n",
                            "      <td>7 less than 4 times a number equals 13. What i...</td>\n",
                            "    </tr>\n",
                            "    <tr>\n",
                            "      <th>2493</th>\n",
                            "      <td>7=3+x</td>\n",
                            "      <td>7=3+x</td>\n",
                            "      <td>Dan found 7 seashells but 3 were broken.  How ...</td>\n",
                            "    </tr>\n",
                            "    <tr>\n",
                            "      <th>2564</th>\n",
                            "      <td>1110=30*x</td>\n",
                            "      <td>1110=30*x</td>\n",
                            "      <td>There are 1110 students at a school. If each c...</td>\n",
                            "    </tr>\n",
                            "    <tr>\n",
                            "      <th>2699</th>\n",
                            "      <td>16*.01*x=30.0-26.48</td>\n",
                            "      <td>16*.01*x=30.0-26.48</td>\n",
                            "      <td>Latoya purchased a prepaid phone card for 30 d...</td>\n",
                            "    </tr>\n",
                            "    <tr>\n",
                            "      <th>3143</th>\n",
                            "      <td>9792=3513+x</td>\n",
                            "      <td>9792=3513+x</td>\n",
                            "      <td>So far, an orchard has sold a combined total o...</td>\n",
                            "    </tr>\n",
                            "    <tr>\n",
                            "      <th>3352</th>\n",
                            "      <td>35 + x = 56</td>\n",
                            "      <td>35+x=56</td>\n",
                            "      <td>Mike has 35 books in his library . He bought s...</td>\n",
                            "    </tr>\n",
                            "    <tr>\n",
                            "      <th>3563</th>\n",
                            "      <td>1.89=x-0.28</td>\n",
                            "      <td>1.89=x-0.28</td>\n",
                            "      <td>A grocery store is selling hamburger for 1.89 ...</td>\n",
                            "    </tr>\n",
                            "    <tr>\n",
                            "      <th>3597</th>\n",
                            "      <td>70.0-(8.58*x)=35.68</td>\n",
                            "      <td>70.0-(8.58*x)=35.68</td>\n",
                            "      <td>Rita received a 70 dollars gift card for a cof...</td>\n",
                            "    </tr>\n",
                            "    <tr>\n",
                            "      <th>3623</th>\n",
                            "      <td>(2*5.92)+6.79+x=20</td>\n",
                            "      <td>(2*5.92)+6.79+x=20</td>\n",
                            "      <td>On Friday, Fred paid $5.92 each on 2 tickets t...</td>\n",
                            "    </tr>\n",
                            "  </tbody>\n",
                            "</table>\n",
                            "</div>"
                        ],
                        "text/plain": [
                            "                         equation                   expression  \\\n",
                            "123            85.0=(15.0*x)-20.0           85.0=(15.0*x)-20.0   \n",
                            "211                       35+x=83                      35+x=83   \n",
                            "384                   17+(7*x)=80                  17+(7*x)=80   \n",
                            "746    x*(1.0-(8.0*0.01))=13580.0   x*(1.0-(8.0*0.01))=13580.0   \n",
                            "757              (x-6.0)*4.0=36.0             (x-6.0)*4.0=36.0   \n",
                            "855                 1.3333*x=4.82                1.3333*x=4.82   \n",
                            "1241                      22+x=55                      22+x=55   \n",
                            "1837              (0.2*x)-4.0=6.0              (0.2*x)-4.0=6.0   \n",
                            "1842  ((450.0+200.0)+x)/3.0=300.0  ((450.0+200.0)+x)/3.0=300.0   \n",
                            "1949                    53=7+14+x                    53=7+14+x   \n",
                            "2033       (2.0*x)-(-8.0)=(-12.0)       (2.0*x)-(-8.0)=(-12.0)   \n",
                            "2222              (0.6*x)-1.0=2.0              (0.6*x)-1.0=2.0   \n",
                            "2369                   (x/2)+8=12                   (x/2)+8=12   \n",
                            "2452             (4.0*x)-7.0=13.0             (4.0*x)-7.0=13.0   \n",
                            "2493                        7=3+x                        7=3+x   \n",
                            "2564                    1110=30*x                    1110=30*x   \n",
                            "2699          16*.01*x=30.0-26.48          16*.01*x=30.0-26.48   \n",
                            "3143                  9792=3513+x                  9792=3513+x   \n",
                            "3352                  35 + x = 56                      35+x=56   \n",
                            "3563                  1.89=x-0.28                  1.89=x-0.28   \n",
                            "3597          70.0-(8.58*x)=35.68          70.0-(8.58*x)=35.68   \n",
                            "3623           (2*5.92)+6.79+x=20           (2*5.92)+6.79+x=20   \n",
                            "\n",
                            "                                               question  \n",
                            "123   You make candles and sell them for 15 dollars ...  \n",
                            "211   Arthur baked 35 muffins. How many more muffins...  \n",
                            "384   Oceanside Bike Rental Shop charges 17 dollars ...  \n",
                            "746   A disc jockey now charges 13,580 dollars for a...  \n",
                            "757   If I subtract 6 from a number and then multipl...  \n",
                            "855    1.3333 of a number is 4.82 , what is the number?  \n",
                            "1241  There are 22 walnut trees currently in the par...  \n",
                            "1837  0.20 of a number decreased by 4 is equal to 6....  \n",
                            "1842  Martha wants to buy a digital camera from her ...  \n",
                            "1949  Randy needs 53 cupcakes for a birthday party. ...  \n",
                            "2033  The difference between 2 times a number and -8...  \n",
                            "2222  A water flow restrictor has reduced the flow o...  \n",
                            "2369  Alyssa spent half of her allowance going to th...  \n",
                            "2452  7 less than 4 times a number equals 13. What i...  \n",
                            "2493  Dan found 7 seashells but 3 were broken.  How ...  \n",
                            "2564  There are 1110 students at a school. If each c...  \n",
                            "2699  Latoya purchased a prepaid phone card for 30 d...  \n",
                            "3143  So far, an orchard has sold a combined total o...  \n",
                            "3352  Mike has 35 books in his library . He bought s...  \n",
                            "3563  A grocery store is selling hamburger for 1.89 ...  \n",
                            "3597  Rita received a 70 dollars gift card for a cof...  \n",
                            "3623  On Friday, Fred paid $5.92 each on 2 tickets t...  "
                        ]
                    },
                    "execution_count": 4,
                    "metadata": {},
                    "output_type": "execute_result"
                }
            ],
            "source": [
                "df[\"train\"][df[\"train\"][\"expression\"].str.contains(\"x\")]"
            ]
        },
        {
            "cell_type": "code",
            "execution_count": 5,
            "metadata": {},
            "outputs": [],
            "source": [
                "df[\"train\"].loc[123, \"expression\"] = \"(85.0+20)/15.0\"\n",
                "df[\"train\"].loc[211, \"expression\"] = \"83-35\"\n",
                "df[\"train\"].loc[384, \"expression\"] = \"(80-17)/7\"\n",
                "df[\"train\"].loc[746, \"expression\"] = \"13580.0/(1.0-(8.0*0.01))\"\n",
                "df[\"train\"].loc[757, \"expression\"] = \"(36.0/4.0)+6\"\n",
                "df[\"train\"].loc[855, \"expression\"] = \"4.82/1.3333\"\n",
                "df[\"train\"].loc[1241, \"expression\"] = \"55-22\"\n",
                "df[\"train\"].loc[1837, \"expression\"] = \"(6.0+4.0)/0.2\"\n",
                "df[\"train\"].loc[1842, \"expression\"] = \"(300.0*3.0)-(450.0+200.0)\"\n",
                "df[\"train\"].loc[1949, \"expression\"] = \"53-(7+14)\"\n",
                "df[\"train\"].loc[2033, \"expression\"] = \"((-12.0) + (-8.0)) / 2.0\"\n",
                "df[\"train\"].loc[2222, \"expression\"] = \"(2.0+1.0)/0.6\"\n",
                "df[\"train\"].loc[2369, \"expression\"] = \"(12-8)*2\"\n",
                "df[\"train\"].loc[2452, \"expression\"] = \"(13.0+7.0)/4.0\"\n",
                "df[\"train\"].loc[2493, \"expression\"] = \"7-3\"\n",
                "df[\"train\"].loc[2564, \"expression\"] = \"1110/30\"\n",
                "df[\"train\"].loc[2699, \"expression\"] = \"(30.0-26.48)/(16*.01)\"\n",
                "df[\"train\"].loc[3143, \"expression\"] = \"9792-3513\"\n",
                "df[\"train\"].loc[3352, \"expression\"] = \"56-35\"\n",
                "df[\"train\"].loc[3563, \"expression\"] = \"1.89+0.28\"\n",
                "df[\"train\"].loc[3597, \"expression\"] = \"(70.0-35.68)/8.58\"\n",
                "df[\"train\"].loc[3623, \"expression\"] = \"20-(2*5.92)-6.79\""
            ]
        },
        {
            "cell_type": "code",
            "execution_count": 7,
            "metadata": {},
            "outputs": [
                {
                    "data": {
                        "text/html": [
                            "<div>\n",
                            "<style scoped>\n",
                            "    .dataframe tbody tr th:only-of-type {\n",
                            "        vertical-align: middle;\n",
                            "    }\n",
                            "\n",
                            "    .dataframe tbody tr th {\n",
                            "        vertical-align: top;\n",
                            "    }\n",
                            "\n",
                            "    .dataframe thead th {\n",
                            "        text-align: right;\n",
                            "    }\n",
                            "</style>\n",
                            "<table border=\"1\" class=\"dataframe\">\n",
                            "  <thead>\n",
                            "    <tr style=\"text-align: right;\">\n",
                            "      <th></th>\n",
                            "      <th>equation</th>\n",
                            "      <th>expression</th>\n",
                            "      <th>question</th>\n",
                            "    </tr>\n",
                            "  </thead>\n",
                            "  <tbody>\n",
                            "    <tr>\n",
                            "      <th>70</th>\n",
                            "      <td>(5.0*24.95)+(0.49*x)=200.0</td>\n",
                            "      <td>(5.0*24.95)+(0.49*x)=200.0</td>\n",
                            "      <td>A car rental agency advertised renting a luxur...</td>\n",
                            "    </tr>\n",
                            "    <tr>\n",
                            "      <th>108</th>\n",
                            "      <td>5*x=50</td>\n",
                            "      <td>5*x=50</td>\n",
                            "      <td>It has been tradition in Shiela’s home to hang...</td>\n",
                            "    </tr>\n",
                            "    <tr>\n",
                            "      <th>618</th>\n",
                            "      <td>1450.0/1127.0=3.0/x</td>\n",
                            "      <td>1450.0/1127.0=3.0/x</td>\n",
                            "      <td>The Sears Tower in Chicago is 1450 feet tall. ...</td>\n",
                            "    </tr>\n",
                            "    <tr>\n",
                            "      <th>728</th>\n",
                            "      <td>190.0+((4.0*0.01)*x)=500.0</td>\n",
                            "      <td>190.0+((4.0*0.01)*x)=500.0</td>\n",
                            "      <td>Trenton sells electronic supplies. Each week h...</td>\n",
                            "    </tr>\n",
                            "    <tr>\n",
                            "      <th>777</th>\n",
                            "      <td>8.77+10.97+x=20</td>\n",
                            "      <td>8.77+10.97+x=20</td>\n",
                            "      <td>Joan paid $8.77 on a cat toy, and a cage cost ...</td>\n",
                            "    </tr>\n",
                            "    <tr>\n",
                            "      <th>778</th>\n",
                            "      <td>20.99+((25.0*0.01)*x)=95.74</td>\n",
                            "      <td>20.99+((25.0*0.01)*x)=95.74</td>\n",
                            "      <td>Michael rented a truck for one day. There was ...</td>\n",
                            "    </tr>\n",
                            "    <tr>\n",
                            "      <th>896</th>\n",
                            "      <td>(10.0*4.2)+(90.0*5.6)=(10.0+90.0)*x</td>\n",
                            "      <td>(10.0*4.2)+(90.0*5.6)=(10.0+90.0)*x</td>\n",
                            "      <td>Find the cost per pound of a trail mix made fr...</td>\n",
                            "    </tr>\n",
                            "  </tbody>\n",
                            "</table>\n",
                            "</div>"
                        ],
                        "text/plain": [
                            "                                equation                           expression  \\\n",
                            "70            (5.0*24.95)+(0.49*x)=200.0           (5.0*24.95)+(0.49*x)=200.0   \n",
                            "108                               5*x=50                               5*x=50   \n",
                            "618                  1450.0/1127.0=3.0/x                  1450.0/1127.0=3.0/x   \n",
                            "728           190.0+((4.0*0.01)*x)=500.0           190.0+((4.0*0.01)*x)=500.0   \n",
                            "777                      8.77+10.97+x=20                      8.77+10.97+x=20   \n",
                            "778          20.99+((25.0*0.01)*x)=95.74          20.99+((25.0*0.01)*x)=95.74   \n",
                            "896  (10.0*4.2)+(90.0*5.6)=(10.0+90.0)*x  (10.0*4.2)+(90.0*5.6)=(10.0+90.0)*x   \n",
                            "\n",
                            "                                              question  \n",
                            "70   A car rental agency advertised renting a luxur...  \n",
                            "108  It has been tradition in Shiela’s home to hang...  \n",
                            "618  The Sears Tower in Chicago is 1450 feet tall. ...  \n",
                            "728  Trenton sells electronic supplies. Each week h...  \n",
                            "777  Joan paid $8.77 on a cat toy, and a cage cost ...  \n",
                            "778  Michael rented a truck for one day. There was ...  \n",
                            "896  Find the cost per pound of a trail mix made fr...  "
                        ]
                    },
                    "execution_count": 7,
                    "metadata": {},
                    "output_type": "execute_result"
                }
            ],
            "source": [
                "df[\"validation\"][df[\"validation\"][\"expression\"].str.contains(\"x\")]"
            ]
        },
        {
            "cell_type": "code",
            "execution_count": 8,
            "metadata": {},
            "outputs": [],
            "source": [
                "df[\"validation\"].loc[70, \"expression\"] = \"(200.0-(5.0*24.95))/0.49\"\n",
                "df[\"validation\"].loc[108, \"expression\"] = \"50/5\"\n",
                "df[\"validation\"].loc[618, \"expression\"] = \"3.0/(1450.0/1127.0)\"\n",
                "df[\"validation\"].loc[728, \"expression\"] = \"(500.0-190.0)/(4.0*0.01)\"\n",
                "df[\"validation\"].loc[777, \"expression\"] = \"20-8.77-10.97\"\n",
                "df[\"validation\"].loc[778, \"expression\"] = \"(95.74-20.99)/(25.0*0.01)\"\n",
                "df[\"validation\"].loc[896, \"expression\"] = \"((10.0*4.2)+(90.0*5.6))/(10.0+90.0)\""
            ]
        },
        {
            "cell_type": "code",
            "execution_count": 9,
            "metadata": {},
            "outputs": [
                {
                    "data": {
                        "text/html": [
                            "<div>\n",
                            "<style scoped>\n",
                            "    .dataframe tbody tr th:only-of-type {\n",
                            "        vertical-align: middle;\n",
                            "    }\n",
                            "\n",
                            "    .dataframe tbody tr th {\n",
                            "        vertical-align: top;\n",
                            "    }\n",
                            "\n",
                            "    .dataframe thead th {\n",
                            "        text-align: right;\n",
                            "    }\n",
                            "</style>\n",
                            "<table border=\"1\" class=\"dataframe\">\n",
                            "  <thead>\n",
                            "    <tr style=\"text-align: right;\">\n",
                            "      <th></th>\n",
                            "      <th>equation</th>\n",
                            "      <th>expression</th>\n",
                            "      <th>question</th>\n",
                            "    </tr>\n",
                            "  </thead>\n",
                            "  <tbody>\n",
                            "    <tr>\n",
                            "      <th>2</th>\n",
                            "      <td>56-x=22</td>\n",
                            "      <td>56-x=22</td>\n",
                            "      <td>Dan found 56 seashells on the beach, he gave J...</td>\n",
                            "    </tr>\n",
                            "    <tr>\n",
                            "      <th>175</th>\n",
                            "      <td>73+x=96</td>\n",
                            "      <td>73+x=96</td>\n",
                            "      <td>There were 73 bales of hay in the barn. Jason ...</td>\n",
                            "    </tr>\n",
                            "    <tr>\n",
                            "      <th>253</th>\n",
                            "      <td>5.0+x=20.0</td>\n",
                            "      <td>5.0+x=20.0</td>\n",
                            "      <td>The sum of 5 and a number is 20. Find the number.</td>\n",
                            "    </tr>\n",
                            "    <tr>\n",
                            "      <th>388</th>\n",
                            "      <td>34+x=86</td>\n",
                            "      <td>34+x=86</td>\n",
                            "      <td>Mike had 34 peaches left at his roadside fruit...</td>\n",
                            "    </tr>\n",
                            "  </tbody>\n",
                            "</table>\n",
                            "</div>"
                        ],
                        "text/plain": [
                            "       equation  expression                                           question\n",
                            "2       56-x=22     56-x=22  Dan found 56 seashells on the beach, he gave J...\n",
                            "175     73+x=96     73+x=96  There were 73 bales of hay in the barn. Jason ...\n",
                            "253  5.0+x=20.0  5.0+x=20.0  The sum of 5 and a number is 20. Find the number.\n",
                            "388     34+x=86     34+x=86  Mike had 34 peaches left at his roadside fruit..."
                        ]
                    },
                    "execution_count": 9,
                    "metadata": {},
                    "output_type": "execute_result"
                }
            ],
            "source": [
                "df[\"test\"][df[\"test\"][\"expression\"].str.contains(\"x\")]"
            ]
        },
        {
            "cell_type": "code",
            "execution_count": 10,
            "metadata": {},
            "outputs": [],
            "source": [
                "df[\"test\"].loc[2, \"expression\"] = \"56-22\"\n",
                "df[\"test\"].loc[175, \"expression\"] = \"96-73\"\n",
                "df[\"test\"].loc[253, \"expression\"] = \"20-5.0\"\n",
                "df[\"test\"].loc[388, \"expression\"] = \"86-34\""
            ]
        },
        {
            "cell_type": "code",
            "execution_count": 11,
            "metadata": {},
            "outputs": [],
            "source": [
                "def solve_str_eq(string):\n",
                "    lhs, rhs = string.split(\"=\")\n",
                "    lhs = sympy.sympify(lhs)\n",
                "    rhs = sympy.sympify(rhs)\n",
                "    return sympy.solve(lhs - rhs)[0]"
            ]
        },
        {
            "cell_type": "code",
            "execution_count": 12,
            "metadata": {},
            "outputs": [
                {
                    "name": "stdout",
                    "output_type": "stream",
                    "text": [
                        "1.0\n",
                        "1.0\n",
                        "1.0\n"
                    ]
                }
            ],
            "source": [
                "for name, split in df.items():\n",
                "    expr_result = split[\"expression\"].apply(sympy.parse_expr)\n",
                "    eq_solution = split[\"equation\"].apply(solve_str_eq)\n",
                "    print(((expr_result - eq_solution).apply(abs) < 0.000001).mean())"
            ]
        },
        {
            "cell_type": "code",
            "execution_count": 13,
            "metadata": {},
            "outputs": [],
            "source": [
                "grammar = \"\"\"\n",
                "?start: expr\n",
                "\n",
                "?expr: neg\n",
                "\n",
                "?atom: num\n",
                "    | implicit_mul\n",
                "    | \"(\" expr \")\"\n",
                "\n",
                "implicit_mul: num ( \"(\" expr \")\" )+\n",
                "            | \"(\" expr \")\" ( \"(\" expr \")\" )+\n",
                "\n",
                "?neg: add\n",
                "    | \"-\" neg -> neg\n",
                "    | \"-\" add -> neg\n",
                "?add: sub\n",
                "    | sub (\"+\" sub)+ -> add\n",
                "?sub: mul\n",
                "    | mul (\"-\" mul)+ -> sub\n",
                "?mul: div\n",
                "    | div (\"*\" div)+ -> mul\n",
                "?div: pow\n",
                "    | pow (\"/\" pow)+ -> div\n",
                "?pow: perc\n",
                "    | perc (\"**\" perc)+ -> pow\n",
                "?perc: atom \"%\" -> perc\n",
                "     | atom\n",
                "?num: SIGNED_NUMBER\n",
                "\n",
                "%import common.SIGNED_NUMBER\n",
                "%import common.WS\n",
                "%ignore WS\n",
                "\"\"\""
            ]
        },
        {
            "cell_type": "code",
            "execution_count": 14,
            "metadata": {},
            "outputs": [],
            "source": [
                "class TreeEvaluator:\n",
                "\n",
                "    def __init__(self, calc: gadgets.gadget.Calculator, parser: lark.Lark) -> None:\n",
                "        self.cache = {}\n",
                "        self.calc = calc\n",
                "        self.parser = parser\n",
                "\n",
                "    def eval_tree(self, tree: lark.Tree | lark.Token) -> tuple[str, sympy.Expr]:\n",
                "        if tree not in self.cache:\n",
                "            self.cache[tree] = self._eval_tree(tree)\n",
                "        return self.cache[tree]\n",
                "\n",
                "    def _eval_tree(self, tree: lark.Tree | lark.Token) -> tuple[str, sympy.Expr]:\n",
                "        if isinstance(tree, lark.Token):\n",
                "            if tree.type in (\"SIGNED_NUMBER\", \"NUMBER\"):\n",
                "                return None, self.calc.evaluate(tree.value)\n",
                "            else:\n",
                "                raise ValueError(f\"unknown token {tree}\")\n",
                "        \n",
                "        assert isinstance(tree.data, str)\n",
                "        operation = tree.data\n",
                "        args_nodes = tree.children\n",
                "        args = [self._format_arg(self.eval_tree(arg_node)[1]) for arg_node in args_nodes]\n",
                "        inputs = self._format_op(operation, args)\n",
                "        return inputs, self.calc.evaluate(inputs)\n",
                "    \n",
                "    def _format_op(self, op: str, args: list[str]) -> str:\n",
                "        if op == \"neg\":\n",
                "            assert len(args) == 1\n",
                "            return \"-\" + args[0]\n",
                "        if op == \"add\" or op == \"implicit_add\":\n",
                "            return \" + \".join(args)  \n",
                "        if op == \"sub\":\n",
                "            return \" - \".join(args)\n",
                "        if op == \"mul\" or op == \"implicit_mul\":\n",
                "            return \" * \".join(args)\n",
                "        if op == \"div\":\n",
                "            return \" / \".join(args)\n",
                "        if op == \"pow\":\n",
                "            return \" ** \".join(args)\n",
                "        if op == \"perc\":\n",
                "            assert len(args) == 1\n",
                "            return f\"{args[0]} / 100\"\n",
                "        raise ValueError(f\"unknown operation {op}\")\n",
                "\n",
                "    def _format_arg(self, value_expr: sympy.Number) -> str:\n",
                "        value_str = self.calc.format_sympy_number(value_expr, add_approx=False)\n",
                "        if isinstance(value_expr, sympy.core.function.Application):\n",
                "            return value_str\n",
                "        if isinstance(value_expr, (sympy.Float, sympy.Integer, sympy.NumberSymbol)):\n",
                "            if value_expr < 0:\n",
                "                return \"(\" + value_str + \")\"\n",
                "            return value_str\n",
                "        if isinstance(value_expr, sympy.Rational):\n",
                "            return \"(\" + value_str + \")\"\n",
                "        if isinstance(value_expr, (sympy.Mul, sympy.Pow, sympy.Add)):\n",
                "            return \"(\" + value_str + \")\"\n",
                "        warnings.warn(f\"weird value type {type(value_expr)} for {value_expr} (string: '{value_str}')\")\n",
                "        return \"(\" + value_str + \")\"\n",
                "\n",
                "    def dfs(self, tree: lark.Tree | lark.Token) -> Iterable[lark.Tree | lark.Token]:\n",
                "        if isinstance(tree, lark.Tree):\n",
                "            for child in tree.children:\n",
                "                yield from self.dfs(child)\n",
                "        yield tree\n",
                "\n",
                "    def expr_to_steps(self, expr: str, drop_repeated: bool = True) -> tuple[list[gadgets.datatypes.Interaction], sympy.Expr]:\n",
                "        tree = self.parser.parse(expr)\n",
                "        steps = []\n",
                "        for subtree in self.dfs(tree):\n",
                "            step = self.eval_tree(subtree)\n",
                "            if step is None:\n",
                "                continue\n",
                "            if step[0] is None:\n",
                "                continue\n",
                "            inputs, output_expr = step\n",
                "            interaction = gadgets.datatypes.Interaction(\n",
                "                gadget_id=\"calculator\",\n",
                "                inputs=inputs,\n",
                "                outputs=self.calc.format_sympy_number(output_expr),\n",
                "            )\n",
                "            if drop_repeated and interaction in steps:\n",
                "                continue\n",
                "            steps.append(interaction)\n",
                "            \n",
                "        _, result = self.eval_tree(tree)\n",
                "        return steps, result\n",
                "    "
            ]
        },
        {
            "cell_type": "code",
            "execution_count": 15,
            "metadata": {},
            "outputs": [
                {
                    "data": {
                        "text/plain": [
                            "3062               107-20\n",
                            "566                59+101\n",
                            "981                 82+59\n",
                            "1009    ((45.0-35.0)/5.0)\n",
                            "2470               155-42\n",
                            "2921                18+70\n",
                            "3379                 54/7\n",
                            "501                382/10\n",
                            "1292                76-23\n",
                            "1403                 37-3\n",
                            "Name: expression, dtype: object"
                        ]
                    },
                    "execution_count": 15,
                    "metadata": {},
                    "output_type": "execute_result"
                }
            ],
            "source": [
                "df[\"train\"][\"expression\"].sample(10, random_state=0)"
            ]
        },
        {
            "cell_type": "code",
            "execution_count": 16,
            "metadata": {},
            "outputs": [],
            "source": [
                "calc = gadgets.gadget.Calculator()\n",
                "\n",
                "parser = lark.Lark(grammar)\n",
                "tree_evaluator = TreeEvaluator(calc, parser)\n",
                "\n",
                "for split in [\"train\", \"test\", \"validation\"]:\n",
                "    df[split][\"chain\"], df[split][\"result\"] = zip(*df[split][\"expression\"].apply(tree_evaluator.expr_to_steps))\n",
                "    df[split][\"result_float\"] = df[split][\"result\"].apply(float)\n",
                "    df[split][\"result\"] = df[split][\"result\"].apply(calc.format_sympy_number, add_approx=False)\n",
                "    df[split][\"chain\"] = df[split].apply(lambda row: gadgets.markup.to_model_markup(chain=row[\"chain\"], result=row[\"result\"]), axis=1).apply(str).str.strip()"
            ]
        },
        {
            "cell_type": "code",
            "execution_count": 17,
            "metadata": {},
            "outputs": [
                {
                    "data": {
                        "text/html": [
                            "<div>\n",
                            "<style scoped>\n",
                            "    .dataframe tbody tr th:only-of-type {\n",
                            "        vertical-align: middle;\n",
                            "    }\n",
                            "\n",
                            "    .dataframe tbody tr th {\n",
                            "        vertical-align: top;\n",
                            "    }\n",
                            "\n",
                            "    .dataframe thead th {\n",
                            "        text-align: right;\n",
                            "    }\n",
                            "</style>\n",
                            "<table border=\"1\" class=\"dataframe\">\n",
                            "  <thead>\n",
                            "    <tr style=\"text-align: right;\">\n",
                            "      <th></th>\n",
                            "      <th>expression</th>\n",
                            "      <th>chain</th>\n",
                            "      <th>result</th>\n",
                            "      <th>result_float</th>\n",
                            "    </tr>\n",
                            "  </thead>\n",
                            "  <tbody>\n",
                            "    <tr>\n",
                            "      <th>3062</th>\n",
                            "      <td>107-20</td>\n",
                            "      <td>&lt;gadget id=\"calculator\"&gt;107 - 20&lt;/gadget&gt;\\n&lt;ou...</td>\n",
                            "      <td>87</td>\n",
                            "      <td>87.000000</td>\n",
                            "    </tr>\n",
                            "    <tr>\n",
                            "      <th>566</th>\n",
                            "      <td>59+101</td>\n",
                            "      <td>&lt;gadget id=\"calculator\"&gt;59 + 101&lt;/gadget&gt;\\n&lt;ou...</td>\n",
                            "      <td>160</td>\n",
                            "      <td>160.000000</td>\n",
                            "    </tr>\n",
                            "    <tr>\n",
                            "      <th>981</th>\n",
                            "      <td>82+59</td>\n",
                            "      <td>&lt;gadget id=\"calculator\"&gt;82 + 59&lt;/gadget&gt;\\n&lt;out...</td>\n",
                            "      <td>141</td>\n",
                            "      <td>141.000000</td>\n",
                            "    </tr>\n",
                            "    <tr>\n",
                            "      <th>1009</th>\n",
                            "      <td>((45.0-35.0)/5.0)</td>\n",
                            "      <td>&lt;gadget id=\"calculator\"&gt;45 - 35&lt;/gadget&gt;\\n&lt;out...</td>\n",
                            "      <td>2</td>\n",
                            "      <td>2.000000</td>\n",
                            "    </tr>\n",
                            "    <tr>\n",
                            "      <th>2470</th>\n",
                            "      <td>155-42</td>\n",
                            "      <td>&lt;gadget id=\"calculator\"&gt;155 - 42&lt;/gadget&gt;\\n&lt;ou...</td>\n",
                            "      <td>113</td>\n",
                            "      <td>113.000000</td>\n",
                            "    </tr>\n",
                            "    <tr>\n",
                            "      <th>2921</th>\n",
                            "      <td>18+70</td>\n",
                            "      <td>&lt;gadget id=\"calculator\"&gt;18 + 70&lt;/gadget&gt;\\n&lt;out...</td>\n",
                            "      <td>88</td>\n",
                            "      <td>88.000000</td>\n",
                            "    </tr>\n",
                            "    <tr>\n",
                            "      <th>3379</th>\n",
                            "      <td>54/7</td>\n",
                            "      <td>&lt;gadget id=\"calculator\"&gt;54 / 7&lt;/gadget&gt;\\n&lt;outp...</td>\n",
                            "      <td>54/7</td>\n",
                            "      <td>7.714286</td>\n",
                            "    </tr>\n",
                            "    <tr>\n",
                            "      <th>501</th>\n",
                            "      <td>382/10</td>\n",
                            "      <td>&lt;gadget id=\"calculator\"&gt;382 / 10&lt;/gadget&gt;\\n&lt;ou...</td>\n",
                            "      <td>191/5</td>\n",
                            "      <td>38.200000</td>\n",
                            "    </tr>\n",
                            "    <tr>\n",
                            "      <th>1292</th>\n",
                            "      <td>76-23</td>\n",
                            "      <td>&lt;gadget id=\"calculator\"&gt;76 - 23&lt;/gadget&gt;\\n&lt;out...</td>\n",
                            "      <td>53</td>\n",
                            "      <td>53.000000</td>\n",
                            "    </tr>\n",
                            "    <tr>\n",
                            "      <th>1403</th>\n",
                            "      <td>37-3</td>\n",
                            "      <td>&lt;gadget id=\"calculator\"&gt;37 - 3&lt;/gadget&gt;\\n&lt;outp...</td>\n",
                            "      <td>34</td>\n",
                            "      <td>34.000000</td>\n",
                            "    </tr>\n",
                            "  </tbody>\n",
                            "</table>\n",
                            "</div>"
                        ],
                        "text/plain": [
                            "             expression                                              chain  \\\n",
                            "3062             107-20  <gadget id=\"calculator\">107 - 20</gadget>\\n<ou...   \n",
                            "566              59+101  <gadget id=\"calculator\">59 + 101</gadget>\\n<ou...   \n",
                            "981               82+59  <gadget id=\"calculator\">82 + 59</gadget>\\n<out...   \n",
                            "1009  ((45.0-35.0)/5.0)  <gadget id=\"calculator\">45 - 35</gadget>\\n<out...   \n",
                            "2470             155-42  <gadget id=\"calculator\">155 - 42</gadget>\\n<ou...   \n",
                            "2921              18+70  <gadget id=\"calculator\">18 + 70</gadget>\\n<out...   \n",
                            "3379               54/7  <gadget id=\"calculator\">54 / 7</gadget>\\n<outp...   \n",
                            "501              382/10  <gadget id=\"calculator\">382 / 10</gadget>\\n<ou...   \n",
                            "1292              76-23  <gadget id=\"calculator\">76 - 23</gadget>\\n<out...   \n",
                            "1403               37-3  <gadget id=\"calculator\">37 - 3</gadget>\\n<outp...   \n",
                            "\n",
                            "     result  result_float  \n",
                            "3062     87     87.000000  \n",
                            "566     160    160.000000  \n",
                            "981     141    141.000000  \n",
                            "1009      2      2.000000  \n",
                            "2470    113    113.000000  \n",
                            "2921     88     88.000000  \n",
                            "3379   54/7      7.714286  \n",
                            "501   191/5     38.200000  \n",
                            "1292     53     53.000000  \n",
                            "1403     34     34.000000  "
                        ]
                    },
                    "execution_count": 17,
                    "metadata": {},
                    "output_type": "execute_result"
                }
            ],
            "source": [
                "df[\"train\"].sample(10, random_state=0)[[\"expression\", \"chain\", \"result\", \"result_float\"]]"
            ]
        },
        {
            "cell_type": "code",
            "execution_count": 18,
            "metadata": {},
            "outputs": [
                {
                    "name": "stdout",
                    "output_type": "stream",
                    "text": [
                        "equation\n",
                        "x=((45.0-35.0)/5.0)\n",
                        "\n",
                        "expression\n",
                        "((45.0-35.0)/5.0)\n",
                        "\n",
                        "question\n",
                        "Wendy picked 45 flowers for her friend’s wedding. She was making bouquets with 5 flowers in each one. If 35 of the flowers wilted before the wedding, how many bouquets could she still make?\n",
                        "\n",
                        "chain\n",
                        "<gadget id=\"calculator\">45 - 35</gadget>\n",
                        "<output>10</output>\n",
                        "\n",
                        "<gadget id=\"calculator\">10 / 5</gadget>\n",
                        "<output>2</output>\n",
                        "\n",
                        "<result>2</result>\n",
                        "\n",
                        "result\n",
                        "2\n",
                        "\n",
                        "result_float\n",
                        "2.0\n",
                        "\n"
                    ]
                }
            ],
            "source": [
                "for key, value in df[\"train\"].loc[1009].to_dict().items():\n",
                "    print(key)\n",
                "    print(value)\n",
                "    print()"
            ]
        },
        {
            "cell_type": "code",
            "execution_count": 19,
            "metadata": {},
            "outputs": [],
            "source": [
                "import string\n",
                "import random\n",
                "\n",
                "id_chars = list(string.ascii_letters + string.digits)\n",
                "\n",
                "ds = datasets.DatasetDict()\n",
                "\n",
                "for name, split in df.items():\n",
                "    random.seed(f\"mawps/{name}\")\n",
                "    split[\"id\"] = \"mawps__\" + pd.Series([\"\".join(random.choices(id_chars, k=16)) for _ in range(len(split))])\n",
                "    split_reorder = split[[\"id\", \"question\", \"chain\", \"result\", \"result_float\", \"equation\", \"expression\"]]\n",
                "    ds[name] = datasets.Dataset.from_pandas(split_reorder)\n",
                "    split_reorder.to_json(f\"../data/mawps/processed/{name}.jsonl\", orient=\"records\", lines=True, force_ascii=False)\n"
            ]
        },
        {
            "cell_type": "code",
            "execution_count": 20,
            "metadata": {},
            "outputs": [
                {
                    "data": {
                        "text/plain": [
                            "True"
                        ]
                    },
                    "execution_count": 20,
                    "metadata": {},
                    "output_type": "execute_result"
                }
            ],
            "source": [
                "pd.concat(df.values())[\"id\"].is_unique"
            ]
        },
        {
            "cell_type": "code",
            "execution_count": 21,
            "metadata": {},
            "outputs": [
                {
                    "data": {
                        "application/vnd.jupyter.widget-view+json": {
                            "model_id": "5c573c22a3f243bbb879bb6336d8ef6c",
                            "version_major": 2,
                            "version_minor": 0
                        },
                        "text/plain": [
                            "Pushing dataset shards to the dataset hub:   0%|          | 0/1 [00:00<?, ?it/s]"
                        ]
                    },
                    "metadata": {},
                    "output_type": "display_data"
                },
                {
                    "data": {
                        "application/vnd.jupyter.widget-view+json": {
                            "model_id": "bf5b1444b9d5400eb6d2b22c3d0ac8f8",
                            "version_major": 2,
                            "version_minor": 0
                        },
                        "text/plain": [
                            "Pushing dataset shards to the dataset hub:   0%|          | 0/1 [00:00<?, ?it/s]"
                        ]
                    },
                    "metadata": {},
                    "output_type": "display_data"
                },
                {
                    "data": {
                        "application/vnd.jupyter.widget-view+json": {
                            "model_id": "1df46c874c2044dcb81c1003423ba9f2",
                            "version_major": 2,
                            "version_minor": 0
                        },
                        "text/plain": [
                            "Pushing dataset shards to the dataset hub:   0%|          | 0/1 [00:00<?, ?it/s]"
                        ]
                    },
                    "metadata": {},
                    "output_type": "display_data"
                },
                {
                    "data": {
                        "application/vnd.jupyter.widget-view+json": {
                            "model_id": "d3ed4c5d2159458288c1bb75d956fcc4",
                            "version_major": 2,
                            "version_minor": 0
                        },
                        "text/plain": [
                            "Creating parquet from Arrow format:   0%|          | 0/2 [00:00<?, ?ba/s]"
                        ]
                    },
                    "metadata": {},
                    "output_type": "display_data"
                },
                {
                    "data": {
                        "application/vnd.jupyter.widget-view+json": {
                            "model_id": "292352e971f14be0b60cc662c74628c1",
                            "version_major": 2,
                            "version_minor": 0
                        },
                        "text/plain": [
                            "Downloading metadata:   0%|          | 0.00/2.97k [00:00<?, ?B/s]"
                        ]
                    },
                    "metadata": {},
                    "output_type": "display_data"
                }
            ],
            "source": [
                "# ds.push_to_hub(\"anonym-repos/Calc-mawps\", \"original-splits\")"
            ]
        },
        {
            "cell_type": "code",
            "execution_count": 22,
            "metadata": {},
            "outputs": [
                {
                    "data": {
                        "application/vnd.jupyter.widget-view+json": {
                            "model_id": "87ed34f1c40e4866a76a25605042e8c4",
                            "version_major": 2,
                            "version_minor": 0
                        },
                        "text/plain": [
                            "Downloading readme:   0%|          | 0.00/2.99k [00:00<?, ?B/s]"
                        ]
                    },
                    "metadata": {},
                    "output_type": "display_data"
                },
                {
                    "data": {
                        "application/vnd.jupyter.widget-view+json": {
                            "model_id": "aa9ffc944a3e4225864a515ce27f5f1e",
                            "version_major": 2,
                            "version_minor": 0
                        },
                        "text/plain": [
                            "Downloading data files:   0%|          | 0/3 [00:00<?, ?it/s]"
                        ]
                    },
                    "metadata": {},
                    "output_type": "display_data"
                },
                {
                    "data": {
                        "application/vnd.jupyter.widget-view+json": {
                            "model_id": "e40bddbbd4a1432e9ed62a06aa7635e4",
                            "version_major": 2,
                            "version_minor": 0
                        },
                        "text/plain": [
                            "Downloading data:   0%|          | 0.00/65.5k [00:00<?, ?B/s]"
                        ]
                    },
                    "metadata": {},
                    "output_type": "display_data"
                },
                {
                    "data": {
                        "application/vnd.jupyter.widget-view+json": {
                            "model_id": "f160f98d4f9d45a2888a5b5c1088688a",
                            "version_major": 2,
                            "version_minor": 0
                        },
                        "text/plain": [
                            "Downloading data:   0%|          | 0.00/436k [00:00<?, ?B/s]"
                        ]
                    },
                    "metadata": {},
                    "output_type": "display_data"
                },
                {
                    "data": {
                        "application/vnd.jupyter.widget-view+json": {
                            "model_id": "a253cc6a6d954857bb511d8d8103d068",
                            "version_major": 2,
                            "version_minor": 0
                        },
                        "text/plain": [
                            "Downloading data:   0%|          | 0.00/129k [00:00<?, ?B/s]"
                        ]
                    },
                    "metadata": {},
                    "output_type": "display_data"
                },
                {
                    "data": {
                        "application/vnd.jupyter.widget-view+json": {
                            "model_id": "15009c38a55f4e16bcf99f6375698187",
                            "version_major": 2,
                            "version_minor": 0
                        },
                        "text/plain": [
                            "Extracting data files:   0%|          | 0/3 [00:00<?, ?it/s]"
                        ]
                    },
                    "metadata": {},
                    "output_type": "display_data"
                },
                {
                    "data": {
                        "application/vnd.jupyter.widget-view+json": {
                            "model_id": "b10513de308e4df1bfbf7d4cf3999a2b",
                            "version_major": 2,
                            "version_minor": 0
                        },
                        "text/plain": [
                            "Generating test split:   0%|          | 0/520 [00:00<?, ? examples/s]"
                        ]
                    },
                    "metadata": {},
                    "output_type": "display_data"
                },
                {
                    "data": {
                        "application/vnd.jupyter.widget-view+json": {
                            "model_id": "ed4c4c6734264d8d8e227109b203678e",
                            "version_major": 2,
                            "version_minor": 0
                        },
                        "text/plain": [
                            "Generating train split:   0%|          | 0/3636 [00:00<?, ? examples/s]"
                        ]
                    },
                    "metadata": {},
                    "output_type": "display_data"
                },
                {
                    "data": {
                        "application/vnd.jupyter.widget-view+json": {
                            "model_id": "ddea6ab0c40348658aa04aa8243d104d",
                            "version_major": 2,
                            "version_minor": 0
                        },
                        "text/plain": [
                            "Generating validation split:   0%|          | 0/1040 [00:00<?, ? examples/s]"
                        ]
                    },
                    "metadata": {},
                    "output_type": "display_data"
                },
                {
                    "data": {
                        "text/plain": [
                            "DatasetDict({\n",
                            "    test: Dataset({\n",
                            "        features: ['id', 'question', 'chain', 'result', 'result_float', 'equation', 'expression'],\n",
                            "        num_rows: 520\n",
                            "    })\n",
                            "    train: Dataset({\n",
                            "        features: ['id', 'question', 'chain', 'result', 'result_float', 'equation', 'expression'],\n",
                            "        num_rows: 3636\n",
                            "    })\n",
                            "    validation: Dataset({\n",
                            "        features: ['id', 'question', 'chain', 'result', 'result_float', 'equation', 'expression'],\n",
                            "        num_rows: 1040\n",
                            "    })\n",
                            "})"
                        ]
                    },
                    "execution_count": 22,
                    "metadata": {},
                    "output_type": "execute_result"
                }
            ],
            "source": [
                "datasets.load_dataset(\"anonym-repos/Calc-mawps\", \"original-splits\")"
            ]
        },
        {
            "cell_type": "code",
            "execution_count": 23,
            "metadata": {},
            "outputs": [
                {
                    "data": {
                        "text/plain": [
                            "{'id': 'mawps__ANMCjEDDzkz5L66p',\n",
                            " 'question': 'A painter needed to paint 12 rooms in a building. Each room takes 7 hours to paint. If he already painted 5 rooms, how much longer will he take to paint the rest?',\n",
                            " 'chain': '<gadget id=\"calculator\">12 - 5</gadget>\\n<output>7</output>\\n\\n<gadget id=\"calculator\">7 * 7</gadget>\\n<output>49</output>\\n\\n<result>49</result>',\n",
                            " 'result': '49',\n",
                            " 'result_float': 49.0,\n",
                            " 'equation': 'x=(7.0*(12.0-5.0))',\n",
                            " 'expression': '(7.0*(12.0-5.0))'}"
                        ]
                    },
                    "execution_count": 23,
                    "metadata": {},
                    "output_type": "execute_result"
                }
            ],
            "source": [
                "datasets.load_dataset(\"anonym-repos/Calc-mawps\", \"original-splits\")[\"train\"][0]"
            ]
        },
        {
            "cell_type": "code",
            "execution_count": null,
            "metadata": {},
            "outputs": [],
            "source": []
        }
    ],
    "metadata": {
        "kernelspec": {
            "display_name": "gadgets",
            "language": "python",
            "name": "python3"
        },
        "language_info": {
            "codemirror_mode": {
                "name": "ipython",
                "version": 3
            },
            "file_extension": ".py",
            "mimetype": "text/x-python",
            "name": "python",
            "nbconvert_exporter": "python",
            "pygments_lexer": "ipython3",
            "version": "3.10.12"
        },
        "orig_nbformat": 4
    },
    "nbformat": 4,
    "nbformat_minor": 2
}