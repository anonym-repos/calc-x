{
    "cells": [
        {
            "cell_type": "code",
            "execution_count": 34,
            "metadata": {},
            "outputs": [],
            "source": [
                "import numpy as np\n",
                "import pandas as pd\n",
                "import datasets\n",
                "\n",
                "import gadgets"
            ]
        },
        {
            "cell_type": "code",
            "execution_count": 35,
            "metadata": {},
            "outputs": [
                {
                    "data": {
                        "application/vnd.jupyter.widget-view+json": {
                            "model_id": "fe16454d7e45433194bd39f4eda527d6",
                            "version_major": 2,
                            "version_minor": 0
                        },
                        "text/plain": [
                            "Downloading builder script:   0%|          | 0.00/4.57k [00:00<?, ?B/s]"
                        ]
                    },
                    "metadata": {},
                    "output_type": "display_data"
                },
                {
                    "data": {
                        "application/vnd.jupyter.widget-view+json": {
                            "model_id": "fbd6c33965474b2c94a295712711e571",
                            "version_major": 2,
                            "version_minor": 0
                        },
                        "text/plain": [
                            "Downloading metadata:   0%|          | 0.00/5.43k [00:00<?, ?B/s]"
                        ]
                    },
                    "metadata": {},
                    "output_type": "display_data"
                },
                {
                    "data": {
                        "application/vnd.jupyter.widget-view+json": {
                            "model_id": "2bf1c16ee21f4f128325f06991dfd36e",
                            "version_major": 2,
                            "version_minor": 0
                        },
                        "text/plain": [
                            "Downloading readme:   0%|          | 0.00/5.53k [00:00<?, ?B/s]"
                        ]
                    },
                    "metadata": {},
                    "output_type": "display_data"
                },
                {
                    "data": {
                        "application/vnd.jupyter.widget-view+json": {
                            "model_id": "2aa1509b14eb4e58b0fbd880c64d81d4",
                            "version_major": 2,
                            "version_minor": 0
                        },
                        "text/plain": [
                            "Downloading data files:   0%|          | 0/3 [00:00<?, ?it/s]"
                        ]
                    },
                    "metadata": {},
                    "output_type": "display_data"
                },
                {
                    "data": {
                        "application/vnd.jupyter.widget-view+json": {
                            "model_id": "a7fb2fca8dc246af84d5ea1d238c3ea8",
                            "version_major": 2,
                            "version_minor": 0
                        },
                        "text/plain": [
                            "Downloading data:   0%|          | 0.00/15.7M [00:00<?, ?B/s]"
                        ]
                    },
                    "metadata": {},
                    "output_type": "display_data"
                },
                {
                    "data": {
                        "application/vnd.jupyter.widget-view+json": {
                            "model_id": "d63b0467900945b190188720e594d04b",
                            "version_major": 2,
                            "version_minor": 0
                        },
                        "text/plain": [
                            "Downloading data:   0%|          | 0.00/45.1k [00:00<?, ?B/s]"
                        ]
                    },
                    "metadata": {},
                    "output_type": "display_data"
                },
                {
                    "data": {
                        "application/vnd.jupyter.widget-view+json": {
                            "model_id": "79c183cafd8444ef91e68a8798a0d9e2",
                            "version_major": 2,
                            "version_minor": 0
                        },
                        "text/plain": [
                            "Downloading data:   0%|          | 0.00/43.7k [00:00<?, ?B/s]"
                        ]
                    },
                    "metadata": {},
                    "output_type": "display_data"
                },
                {
                    "data": {
                        "application/vnd.jupyter.widget-view+json": {
                            "model_id": "553f5b04bdb34f4b9fe92d3f1ddc1cde",
                            "version_major": 2,
                            "version_minor": 0
                        },
                        "text/plain": [
                            "Generating train split:   0%|          | 0/97467 [00:00<?, ? examples/s]"
                        ]
                    },
                    "metadata": {},
                    "output_type": "display_data"
                },
                {
                    "data": {
                        "application/vnd.jupyter.widget-view+json": {
                            "model_id": "05690b66aa3c4fc88f1214e00c92483e",
                            "version_major": 2,
                            "version_minor": 0
                        },
                        "text/plain": [
                            "Generating test split:   0%|          | 0/254 [00:00<?, ? examples/s]"
                        ]
                    },
                    "metadata": {},
                    "output_type": "display_data"
                },
                {
                    "data": {
                        "application/vnd.jupyter.widget-view+json": {
                            "model_id": "ce60c622272a465bb8f3d92887ac3773",
                            "version_major": 2,
                            "version_minor": 0
                        },
                        "text/plain": [
                            "Generating validation split:   0%|          | 0/254 [00:00<?, ? examples/s]"
                        ]
                    },
                    "metadata": {},
                    "output_type": "display_data"
                },
                {
                    "data": {
                        "application/vnd.jupyter.widget-view+json": {
                            "model_id": "dbaaa96a2ea4434389fc43c915bc3454",
                            "version_major": 2,
                            "version_minor": 0
                        },
                        "text/plain": [
                            "Downloading data files:   0%|          | 0/3 [00:00<?, ?it/s]"
                        ]
                    },
                    "metadata": {},
                    "output_type": "display_data"
                },
                {
                    "data": {
                        "application/vnd.jupyter.widget-view+json": {
                            "model_id": "c62ac634098247fdaabcbbcf0784551e",
                            "version_major": 2,
                            "version_minor": 0
                        },
                        "text/plain": [
                            "Downloading data:   0%|          | 0.00/15.9M [00:00<?, ?B/s]"
                        ]
                    },
                    "metadata": {},
                    "output_type": "display_data"
                },
                {
                    "data": {
                        "application/vnd.jupyter.widget-view+json": {
                            "model_id": "79793f46a5614dc79dc3281ea2b14f16",
                            "version_major": 2,
                            "version_minor": 0
                        },
                        "text/plain": [
                            "Downloading data:   0%|          | 0.00/45.6k [00:00<?, ?B/s]"
                        ]
                    },
                    "metadata": {},
                    "output_type": "display_data"
                },
                {
                    "data": {
                        "application/vnd.jupyter.widget-view+json": {
                            "model_id": "bb25e982fb4e43769fa741a2b5179b04",
                            "version_major": 2,
                            "version_minor": 0
                        },
                        "text/plain": [
                            "Downloading data:   0%|          | 0.00/44.2k [00:00<?, ?B/s]"
                        ]
                    },
                    "metadata": {},
                    "output_type": "display_data"
                },
                {
                    "data": {
                        "application/vnd.jupyter.widget-view+json": {
                            "model_id": "186db18747104b86bec8551c3e968101",
                            "version_major": 2,
                            "version_minor": 0
                        },
                        "text/plain": [
                            "Generating train split:   0%|          | 0/97467 [00:00<?, ? examples/s]"
                        ]
                    },
                    "metadata": {},
                    "output_type": "display_data"
                },
                {
                    "data": {
                        "application/vnd.jupyter.widget-view+json": {
                            "model_id": "31250f807c4e49a8809d40b73bb075e0",
                            "version_major": 2,
                            "version_minor": 0
                        },
                        "text/plain": [
                            "Generating test split:   0%|          | 0/254 [00:00<?, ? examples/s]"
                        ]
                    },
                    "metadata": {},
                    "output_type": "display_data"
                },
                {
                    "data": {
                        "application/vnd.jupyter.widget-view+json": {
                            "model_id": "4839a6c57a2e40e9a3078399a8aad2d4",
                            "version_major": 2,
                            "version_minor": 0
                        },
                        "text/plain": [
                            "Generating validation split:   0%|          | 0/254 [00:00<?, ? examples/s]"
                        ]
                    },
                    "metadata": {},
                    "output_type": "display_data"
                }
            ],
            "source": [
                "orig_aqua = datasets.load_dataset(\"aqua_rat\")\n",
                "orig_aqua_tokenized = datasets.load_dataset(\"aqua_rat\", \"tokenized\")"
            ]
        },
        {
            "cell_type": "code",
            "execution_count": 36,
            "metadata": {},
            "outputs": [
                {
                    "data": {
                        "text/plain": [
                            "{'question': \"Two friends plan to walk along a 43-km trail, starting at opposite ends of the trail at the same time. If Friend P's rate is 15% faster than Friend Q's, how many kilometers will Friend P have walked when they pass each other?\",\n",
                            " 'options': ['A)21', 'B)21.5', 'C)22', 'D)22.5', 'E)23'],\n",
                            " 'rationale': 'If Q complete x kilometers, then P completes 1.15x kilometers.\\nx + 1.15x = 43\\n2.15x=43\\nx = 43/2.15 = 20\\nThen P will have have walked 1.15*20=23 km.\\nThe answer is E.',\n",
                            " 'correct': 'E'}"
                        ]
                    },
                    "execution_count": 36,
                    "metadata": {},
                    "output_type": "execute_result"
                }
            ],
            "source": [
                "orig_aqua[\"train\"][0]"
            ]
        },
        {
            "cell_type": "code",
            "execution_count": 37,
            "metadata": {},
            "outputs": [],
            "source": [
                "import random\n",
                "import string\n",
                "\n",
                "id_chars = list(string.ascii_letters + string.digits)\n",
                "\n",
                "aqua = {}\n",
                "\n",
                "def parse_options(options: list[str]) -> dict[str, str]:\n",
                "    assert len(options) == 5\n",
                "    options_dict = {\"A\": None, \"B\": None, \"C\": None, \"D\": None, \"E\": None}\n",
                "    for option, letter in zip(options, options_dict.keys()):\n",
                "        prefix = letter + \")\"\n",
                "        assert option.startswith(prefix)\n",
                "        options_dict[letter] = option.removeprefix(prefix).strip()\n",
                "    return options_dict\n",
                "\n",
                "for split in orig_aqua.keys():\n",
                "    random.seed(f\"aqua_rat/{split}\")\n",
                "    aqua[split] = orig_aqua[split].to_pandas()\n",
                "    aqua[split][\"id\"] = \"aqua_rat__\" + pd.Series([\"\".join(random.choices(id_chars, k=16)) for _ in range(len(aqua[split]))])\n",
                "    aqua[split][\"options\"] = aqua[split][\"options\"].apply(parse_options)\n",
                "    aqua[split][\"correct\"] = aqua[split][\"correct\"].str.upper().str.strip()\n",
                "    aqua[split][\"tokenized_question\"] = orig_aqua_tokenized[split][\"question\"]\n",
                "    assert set(aqua[split][\"correct\"].unique()) == {\"A\", \"B\", \"C\", \"D\", \"E\"}\n"
            ]
        },
        {
            "cell_type": "code",
            "execution_count": 38,
            "metadata": {},
            "outputs": [
                {
                    "name": "stdout",
                    "output_type": "stream",
                    "text": [
                        "INFO: Pandarallel will run on 40 workers.\n",
                        "INFO: Pandarallel will use Memory file system to transfer data between the main process and workers.\n"
                    ]
                }
            ],
            "source": [
                "import pandarallel\n",
                "\n",
                "pandarallel.pandarallel.initialize(progress_bar=True)"
            ]
        },
        {
            "cell_type": "code",
            "execution_count": 39,
            "metadata": {},
            "outputs": [
                {
                    "data": {
                        "application/vnd.jupyter.widget-view+json": {
                            "model_id": "e5add8c66e8c452bb91fa734ec6824b3",
                            "version_major": 2,
                            "version_minor": 0
                        },
                        "text/plain": [
                            "VBox(children=(HBox(children=(IntProgress(value=0, description='0.00%', max=2437), Label(value='0 / 2437'))), …"
                        ]
                    },
                    "metadata": {},
                    "output_type": "display_data"
                },
                {
                    "name": "stderr",
                    "output_type": "stream",
                    "text": [
                        "/home/xkadlci2/gadgets/gadgets/markup.py:14: MarkupResemblesLocatorWarning: The input looks more like a filename than markup. You may want to open this file and pass the filehandle into Beautiful Soup.\n",
                        "  return bs4.BeautifulSoup(step, features=\"html.parser\")\n",
                        "/home/xkadlci2/gadgets/gadgets/markup.py:14: MarkupResemblesLocatorWarning: The input looks more like a filename than markup. You may want to open this file and pass the filehandle into Beautiful Soup.\n",
                        "  return bs4.BeautifulSoup(step, features=\"html.parser\")\n",
                        "/home/xkadlci2/gadgets/gadgets/markup.py:14: MarkupResemblesLocatorWarning: The input looks more like a filename than markup. You may want to open this file and pass the filehandle into Beautiful Soup.\n",
                        "  return bs4.BeautifulSoup(step, features=\"html.parser\")\n",
                        "/home/xkadlci2/gadgets/gadgets/markup.py:14: MarkupResemblesLocatorWarning: The input looks more like a filename than markup. You may want to open this file and pass the filehandle into Beautiful Soup.\n",
                        "  return bs4.BeautifulSoup(step, features=\"html.parser\")\n",
                        "/home/xkadlci2/gadgets/gadgets/markup.py:14: MarkupResemblesLocatorWarning: The input looks more like a filename than markup. You may want to open this file and pass the filehandle into Beautiful Soup.\n",
                        "  return bs4.BeautifulSoup(step, features=\"html.parser\")\n",
                        "/home/xkadlci2/gadgets/gadgets/markup.py:14: MarkupResemblesLocatorWarning: The input looks more like a filename than markup. You may want to open this file and pass the filehandle into Beautiful Soup.\n",
                        "  return bs4.BeautifulSoup(step, features=\"html.parser\")\n",
                        "/home/xkadlci2/gadgets/gadgets/markup.py:14: MarkupResemblesLocatorWarning: The input looks more like a filename than markup. You may want to open this file and pass the filehandle into Beautiful Soup.\n",
                        "  return bs4.BeautifulSoup(step, features=\"html.parser\")\n",
                        "/home/xkadlci2/gadgets/gadgets/markup.py:14: MarkupResemblesLocatorWarning: The input looks more like a filename than markup. You may want to open this file and pass the filehandle into Beautiful Soup.\n",
                        "  return bs4.BeautifulSoup(step, features=\"html.parser\")\n",
                        "/home/xkadlci2/gadgets/gadgets/markup.py:14: MarkupResemblesLocatorWarning: The input looks more like a filename than markup. You may want to open this file and pass the filehandle into Beautiful Soup.\n",
                        "  return bs4.BeautifulSoup(step, features=\"html.parser\")\n",
                        "/home/xkadlci2/gadgets/gadgets/markup.py:14: MarkupResemblesLocatorWarning: The input looks more like a filename than markup. You may want to open this file and pass the filehandle into Beautiful Soup.\n",
                        "  return bs4.BeautifulSoup(step, features=\"html.parser\")\n",
                        "/home/xkadlci2/gadgets/gadgets/markup.py:14: MarkupResemblesLocatorWarning: The input looks more like a filename than markup. You may want to open this file and pass the filehandle into Beautiful Soup.\n",
                        "  return bs4.BeautifulSoup(step, features=\"html.parser\")\n",
                        "/home/xkadlci2/gadgets/gadgets/markup.py:14: MarkupResemblesLocatorWarning: The input looks more like a filename than markup. You may want to open this file and pass the filehandle into Beautiful Soup.\n",
                        "  return bs4.BeautifulSoup(step, features=\"html.parser\")\n",
                        "/home/xkadlci2/gadgets/gadgets/markup.py:14: MarkupResemblesLocatorWarning: The input looks more like a filename than markup. You may want to open this file and pass the filehandle into Beautiful Soup.\n",
                        "  return bs4.BeautifulSoup(step, features=\"html.parser\")\n",
                        "/home/xkadlci2/gadgets/gadgets/markup.py:14: MarkupResemblesLocatorWarning: The input looks more like a filename than markup. You may want to open this file and pass the filehandle into Beautiful Soup.\n",
                        "  return bs4.BeautifulSoup(step, features=\"html.parser\")\n",
                        "/home/xkadlci2/gadgets/gadgets/markup.py:14: MarkupResemblesLocatorWarning: The input looks more like a filename than markup. You may want to open this file and pass the filehandle into Beautiful Soup.\n",
                        "  return bs4.BeautifulSoup(step, features=\"html.parser\")\n",
                        "/home/xkadlci2/gadgets/gadgets/markup.py:14: MarkupResemblesLocatorWarning: The input looks more like a filename than markup. You may want to open this file and pass the filehandle into Beautiful Soup.\n",
                        "  return bs4.BeautifulSoup(step, features=\"html.parser\")\n",
                        "/home/xkadlci2/gadgets/gadgets/markup.py:14: MarkupResemblesLocatorWarning: The input looks more like a filename than markup. You may want to open this file and pass the filehandle into Beautiful Soup.\n",
                        "  return bs4.BeautifulSoup(step, features=\"html.parser\")\n",
                        "/home/xkadlci2/gadgets/gadgets/markup.py:14: MarkupResemblesLocatorWarning: The input looks more like a filename than markup. You may want to open this file and pass the filehandle into Beautiful Soup.\n",
                        "  return bs4.BeautifulSoup(step, features=\"html.parser\")\n",
                        "/home/xkadlci2/gadgets/gadgets/markup.py:14: MarkupResemblesLocatorWarning: The input looks more like a filename than markup. You may want to open this file and pass the filehandle into Beautiful Soup.\n",
                        "  return bs4.BeautifulSoup(step, features=\"html.parser\")\n",
                        "/home/xkadlci2/gadgets/gadgets/markup.py:14: MarkupResemblesLocatorWarning: The input looks more like a filename than markup. You may want to open this file and pass the filehandle into Beautiful Soup.\n",
                        "  return bs4.BeautifulSoup(step, features=\"html.parser\")\n",
                        "/home/xkadlci2/gadgets/gadgets/markup.py:14: MarkupResemblesLocatorWarning: The input looks more like a filename than markup. You may want to open this file and pass the filehandle into Beautiful Soup.\n",
                        "  return bs4.BeautifulSoup(step, features=\"html.parser\")\n",
                        "/home/xkadlci2/gadgets/gadgets/markup.py:14: MarkupResemblesLocatorWarning: The input looks more like a filename than markup. You may want to open this file and pass the filehandle into Beautiful Soup.\n",
                        "  return bs4.BeautifulSoup(step, features=\"html.parser\")\n",
                        "/home/xkadlci2/gadgets/gadgets/markup.py:14: MarkupResemblesLocatorWarning: The input looks more like a filename than markup. You may want to open this file and pass the filehandle into Beautiful Soup.\n",
                        "  return bs4.BeautifulSoup(step, features=\"html.parser\")\n",
                        "/home/xkadlci2/gadgets/gadgets/markup.py:14: MarkupResemblesLocatorWarning: The input looks more like a filename than markup. You may want to open this file and pass the filehandle into Beautiful Soup.\n",
                        "  return bs4.BeautifulSoup(step, features=\"html.parser\")\n",
                        "/home/xkadlci2/gadgets/gadgets/markup.py:14: MarkupResemblesLocatorWarning: The input looks more like a filename than markup. You may want to open this file and pass the filehandle into Beautiful Soup.\n",
                        "  return bs4.BeautifulSoup(step, features=\"html.parser\")\n",
                        "/home/xkadlci2/gadgets/gadgets/markup.py:14: MarkupResemblesLocatorWarning: The input looks more like a filename than markup. You may want to open this file and pass the filehandle into Beautiful Soup.\n",
                        "  return bs4.BeautifulSoup(step, features=\"html.parser\")\n",
                        "/home/xkadlci2/gadgets/gadgets/markup.py:14: MarkupResemblesLocatorWarning: The input looks more like a filename than markup. You may want to open this file and pass the filehandle into Beautiful Soup.\n",
                        "  return bs4.BeautifulSoup(step, features=\"html.parser\")\n",
                        "/home/xkadlci2/gadgets/gadgets/markup.py:14: MarkupResemblesLocatorWarning: The input looks more like a filename than markup. You may want to open this file and pass the filehandle into Beautiful Soup.\n",
                        "  return bs4.BeautifulSoup(step, features=\"html.parser\")\n",
                        "/home/xkadlci2/gadgets/gadgets/markup.py:14: MarkupResemblesLocatorWarning: The input looks more like a filename than markup. You may want to open this file and pass the filehandle into Beautiful Soup.\n",
                        "  return bs4.BeautifulSoup(step, features=\"html.parser\")\n",
                        "/home/xkadlci2/gadgets/gadgets/markup.py:14: MarkupResemblesLocatorWarning: The input looks more like a filename than markup. You may want to open this file and pass the filehandle into Beautiful Soup.\n",
                        "  return bs4.BeautifulSoup(step, features=\"html.parser\")\n",
                        "/home/xkadlci2/gadgets/gadgets/markup.py:14: MarkupResemblesLocatorWarning: The input looks more like a filename than markup. You may want to open this file and pass the filehandle into Beautiful Soup.\n",
                        "  return bs4.BeautifulSoup(step, features=\"html.parser\")\n",
                        "/home/xkadlci2/gadgets/gadgets/markup.py:14: MarkupResemblesLocatorWarning: The input looks more like a filename than markup. You may want to open this file and pass the filehandle into Beautiful Soup.\n",
                        "  return bs4.BeautifulSoup(step, features=\"html.parser\")\n",
                        "/home/xkadlci2/gadgets/gadgets/markup.py:14: MarkupResemblesLocatorWarning: The input looks more like a filename than markup. You may want to open this file and pass the filehandle into Beautiful Soup.\n",
                        "  return bs4.BeautifulSoup(step, features=\"html.parser\")\n",
                        "/home/xkadlci2/gadgets/gadgets/markup.py:14: MarkupResemblesLocatorWarning: The input looks more like a filename than markup. You may want to open this file and pass the filehandle into Beautiful Soup.\n",
                        "  return bs4.BeautifulSoup(step, features=\"html.parser\")\n",
                        "/home/xkadlci2/gadgets/gadgets/markup.py:14: MarkupResemblesLocatorWarning: The input looks more like a filename than markup. You may want to open this file and pass the filehandle into Beautiful Soup.\n",
                        "  return bs4.BeautifulSoup(step, features=\"html.parser\")\n",
                        "/home/xkadlci2/gadgets/gadgets/markup.py:14: MarkupResemblesLocatorWarning: The input looks more like a filename than markup. You may want to open this file and pass the filehandle into Beautiful Soup.\n",
                        "  return bs4.BeautifulSoup(step, features=\"html.parser\")\n",
                        "/home/xkadlci2/gadgets/gadgets/markup.py:14: MarkupResemblesLocatorWarning: The input looks more like a filename than markup. You may want to open this file and pass the filehandle into Beautiful Soup.\n",
                        "  return bs4.BeautifulSoup(step, features=\"html.parser\")\n",
                        "/home/xkadlci2/gadgets/gadgets/markup.py:14: MarkupResemblesLocatorWarning: The input looks more like a filename than markup. You may want to open this file and pass the filehandle into Beautiful Soup.\n",
                        "  return bs4.BeautifulSoup(step, features=\"html.parser\")\n",
                        "/home/xkadlci2/gadgets/gadgets/markup.py:14: MarkupResemblesLocatorWarning: The input looks more like a filename than markup. You may want to open this file and pass the filehandle into Beautiful Soup.\n",
                        "  return bs4.BeautifulSoup(step, features=\"html.parser\")\n",
                        "/home/xkadlci2/gadgets/gadgets/markup.py:14: MarkupResemblesLocatorWarning: The input looks more like a filename than markup. You may want to open this file and pass the filehandle into Beautiful Soup.\n",
                        "  return bs4.BeautifulSoup(step, features=\"html.parser\")\n",
                        "<string>:1: SyntaxWarning: 'tuple' object is not callable; perhaps you missed a comma?\n",
                        "<string>:1: SyntaxWarning: 'tuple' object is not callable; perhaps you missed a comma?\n",
                        "<string>:1: SyntaxWarning: 'tuple' object is not callable; perhaps you missed a comma?\n",
                        "<string>:1: SyntaxWarning: 'tuple' object is not callable; perhaps you missed a comma?\n",
                        "<string>:1: SyntaxWarning: 'tuple' object is not callable; perhaps you missed a comma?\n",
                        "<string>:1: SyntaxWarning: 'tuple' object is not callable; perhaps you missed a comma?\n",
                        "<string>:1: SyntaxWarning: 'tuple' object is not callable; perhaps you missed a comma?\n",
                        "<string>:1: SyntaxWarning: 'tuple' object is not callable; perhaps you missed a comma?\n",
                        "<string>:1: SyntaxWarning: 'tuple' object is not callable; perhaps you missed a comma?\n",
                        "<string>:1: SyntaxWarning: 'tuple' object is not callable; perhaps you missed a comma?\n",
                        "<string>:1: SyntaxWarning: 'tuple' object is not callable; perhaps you missed a comma?\n",
                        "<string>:1: SyntaxWarning: 'tuple' object is not callable; perhaps you missed a comma?\n",
                        "<string>:1: SyntaxWarning: 'tuple' object is not callable; perhaps you missed a comma?\n",
                        "<string>:1: SyntaxWarning: 'tuple' object is not callable; perhaps you missed a comma?\n",
                        "<string>:1: SyntaxWarning: 'tuple' object is not callable; perhaps you missed a comma?\n",
                        "<string>:1: SyntaxWarning: 'tuple' object is not callable; perhaps you missed a comma?\n",
                        "<string>:1: SyntaxWarning: 'tuple' object is not callable; perhaps you missed a comma?\n",
                        "<string>:1: SyntaxWarning: 'tuple' object is not callable; perhaps you missed a comma?\n",
                        "<string>:1: SyntaxWarning: 'tuple' object is not callable; perhaps you missed a comma?\n",
                        "<string>:1: SyntaxWarning: 'tuple' object is not callable; perhaps you missed a comma?\n",
                        "<string>:1: SyntaxWarning: 'tuple' object is not callable; perhaps you missed a comma?\n",
                        "<string>:1: SyntaxWarning: 'tuple' object is not callable; perhaps you missed a comma?\n",
                        "<string>:1: SyntaxWarning: 'tuple' object is not callable; perhaps you missed a comma?\n",
                        "<string>:1: SyntaxWarning: 'tuple' object is not callable; perhaps you missed a comma?\n",
                        "<string>:1: SyntaxWarning: 'tuple' object is not callable; perhaps you missed a comma?\n",
                        "<string>:1: SyntaxWarning: 'tuple' object is not callable; perhaps you missed a comma?\n",
                        "<string>:1: SyntaxWarning: 'tuple' object is not callable; perhaps you missed a comma?\n",
                        "<string>:1: SyntaxWarning: 'tuple' object is not callable; perhaps you missed a comma?\n",
                        "<string>:1: SyntaxWarning: 'tuple' object is not callable; perhaps you missed a comma?\n",
                        "<string>:1: SyntaxWarning: 'tuple' object is not callable; perhaps you missed a comma?\n",
                        "<string>:1: SyntaxWarning: 'tuple' object is not callable; perhaps you missed a comma?\n",
                        "<string>:1: SyntaxWarning: 'tuple' object is not callable; perhaps you missed a comma?\n",
                        "<string>:1: SyntaxWarning: 'tuple' object is not callable; perhaps you missed a comma?\n",
                        "<string>:1: SyntaxWarning: 'tuple' object is not callable; perhaps you missed a comma?\n",
                        "<string>:1: SyntaxWarning: 'tuple' object is not callable; perhaps you missed a comma?\n",
                        "<string>:1: SyntaxWarning: 'tuple' object is not callable; perhaps you missed a comma?\n",
                        "<string>:1: SyntaxWarning: 'tuple' object is not callable; perhaps you missed a comma?\n",
                        "<string>:1: SyntaxWarning: 'tuple' object is not callable; perhaps you missed a comma?\n",
                        "<string>:1: SyntaxWarning: 'tuple' object is not callable; perhaps you missed a comma?\n",
                        "<string>:1: SyntaxWarning: 'tuple' object is not callable; perhaps you missed a comma?\n",
                        "<string>:1: SyntaxWarning: 'tuple' object is not callable; perhaps you missed a comma?\n",
                        "<string>:1: SyntaxWarning: 'tuple' object is not callable; perhaps you missed a comma?\n",
                        "<string>:1: SyntaxWarning: 'tuple' object is not callable; perhaps you missed a comma?\n",
                        "<string>:1: SyntaxWarning: 'tuple' object is not callable; perhaps you missed a comma?\n",
                        "<string>:1: SyntaxWarning: 'tuple' object is not callable; perhaps you missed a comma?\n",
                        "<string>:1: SyntaxWarning: 'tuple' object is not callable; perhaps you missed a comma?\n",
                        "<string>:1: SyntaxWarning: 'tuple' object is not callable; perhaps you missed a comma?\n",
                        "<string>:1: SyntaxWarning: 'tuple' object is not callable; perhaps you missed a comma?\n",
                        "<string>:1: SyntaxWarning: 'tuple' object is not callable; perhaps you missed a comma?\n",
                        "<string>:1: SyntaxWarning: 'tuple' object is not callable; perhaps you missed a comma?\n",
                        "<string>:1: SyntaxWarning: 'tuple' object is not callable; perhaps you missed a comma?\n",
                        "<string>:1: SyntaxWarning: 'tuple' object is not callable; perhaps you missed a comma?\n",
                        "<string>:1: SyntaxWarning: 'tuple' object is not callable; perhaps you missed a comma?\n",
                        "<string>:1: SyntaxWarning: 'tuple' object is not callable; perhaps you missed a comma?\n",
                        "<string>:1: SyntaxWarning: 'tuple' object is not callable; perhaps you missed a comma?\n",
                        "<string>:1: SyntaxWarning: 'tuple' object is not callable; perhaps you missed a comma?\n"
                    ]
                },
                {
                    "data": {
                        "application/vnd.jupyter.widget-view+json": {
                            "model_id": "a8dc5e44ef57497f94c78596fdadb6c6",
                            "version_major": 2,
                            "version_minor": 0
                        },
                        "text/plain": [
                            "VBox(children=(HBox(children=(IntProgress(value=0, description='0.00%', max=7), Label(value='0 / 7'))), HBox(c…"
                        ]
                    },
                    "metadata": {},
                    "output_type": "display_data"
                },
                {
                    "name": "stderr",
                    "output_type": "stream",
                    "text": [
                        "/home/xkadlci2/gadgets/gadgets/markup.py:14: MarkupResemblesLocatorWarning: The input looks more like a filename than markup. You may want to open this file and pass the filehandle into Beautiful Soup.\n",
                        "  return bs4.BeautifulSoup(step, features=\"html.parser\")\n",
                        "/home/xkadlci2/gadgets/gadgets/markup.py:14: MarkupResemblesLocatorWarning: The input looks more like a filename than markup. You may want to open this file and pass the filehandle into Beautiful Soup.\n",
                        "  return bs4.BeautifulSoup(step, features=\"html.parser\")\n",
                        "/home/xkadlci2/gadgets/gadgets/markup.py:14: MarkupResemblesLocatorWarning: The input looks more like a filename than markup. You may want to open this file and pass the filehandle into Beautiful Soup.\n",
                        "  return bs4.BeautifulSoup(step, features=\"html.parser\")\n",
                        "/home/xkadlci2/gadgets/gadgets/markup.py:14: MarkupResemblesLocatorWarning: The input looks more like a filename than markup. You may want to open this file and pass the filehandle into Beautiful Soup.\n",
                        "  return bs4.BeautifulSoup(step, features=\"html.parser\")\n",
                        "/home/xkadlci2/gadgets/gadgets/markup.py:14: MarkupResemblesLocatorWarning: The input looks more like a filename than markup. You may want to open this file and pass the filehandle into Beautiful Soup.\n",
                        "  return bs4.BeautifulSoup(step, features=\"html.parser\")\n",
                        "/home/xkadlci2/gadgets/gadgets/markup.py:14: MarkupResemblesLocatorWarning: The input looks more like a filename than markup. You may want to open this file and pass the filehandle into Beautiful Soup.\n",
                        "  return bs4.BeautifulSoup(step, features=\"html.parser\")\n",
                        "/home/xkadlci2/gadgets/gadgets/markup.py:14: MarkupResemblesLocatorWarning: The input looks more like a filename than markup. You may want to open this file and pass the filehandle into Beautiful Soup.\n",
                        "  return bs4.BeautifulSoup(step, features=\"html.parser\")\n",
                        "/home/xkadlci2/gadgets/gadgets/markup.py:14: MarkupResemblesLocatorWarning: The input looks more like a filename than markup. You may want to open this file and pass the filehandle into Beautiful Soup.\n",
                        "  return bs4.BeautifulSoup(step, features=\"html.parser\")\n",
                        "/home/xkadlci2/gadgets/gadgets/markup.py:14: MarkupResemblesLocatorWarning: The input looks more like a filename than markup. You may want to open this file and pass the filehandle into Beautiful Soup.\n",
                        "  return bs4.BeautifulSoup(step, features=\"html.parser\")\n",
                        "/home/xkadlci2/gadgets/gadgets/markup.py:14: MarkupResemblesLocatorWarning: The input looks more like a filename than markup. You may want to open this file and pass the filehandle into Beautiful Soup.\n",
                        "  return bs4.BeautifulSoup(step, features=\"html.parser\")\n",
                        "/home/xkadlci2/gadgets/gadgets/markup.py:14: MarkupResemblesLocatorWarning: The input looks more like a filename than markup. You may want to open this file and pass the filehandle into Beautiful Soup.\n",
                        "  return bs4.BeautifulSoup(step, features=\"html.parser\")\n",
                        "/home/xkadlci2/gadgets/gadgets/markup.py:14: MarkupResemblesLocatorWarning: The input looks more like a filename than markup. You may want to open this file and pass the filehandle into Beautiful Soup.\n",
                        "  return bs4.BeautifulSoup(step, features=\"html.parser\")\n",
                        "/home/xkadlci2/gadgets/gadgets/markup.py:14: MarkupResemblesLocatorWarning: The input looks more like a filename than markup. You may want to open this file and pass the filehandle into Beautiful Soup.\n",
                        "  return bs4.BeautifulSoup(step, features=\"html.parser\")\n",
                        "/home/xkadlci2/gadgets/gadgets/markup.py:14: MarkupResemblesLocatorWarning: The input looks more like a filename than markup. You may want to open this file and pass the filehandle into Beautiful Soup.\n",
                        "  return bs4.BeautifulSoup(step, features=\"html.parser\")\n",
                        "/home/xkadlci2/gadgets/gadgets/markup.py:14: MarkupResemblesLocatorWarning: The input looks more like a filename than markup. You may want to open this file and pass the filehandle into Beautiful Soup.\n",
                        "  return bs4.BeautifulSoup(step, features=\"html.parser\")\n",
                        "/home/xkadlci2/gadgets/gadgets/markup.py:14: MarkupResemblesLocatorWarning: The input looks more like a filename than markup. You may want to open this file and pass the filehandle into Beautiful Soup.\n",
                        "  return bs4.BeautifulSoup(step, features=\"html.parser\")\n",
                        "/home/xkadlci2/gadgets/gadgets/markup.py:14: MarkupResemblesLocatorWarning: The input looks more like a filename than markup. You may want to open this file and pass the filehandle into Beautiful Soup.\n",
                        "  return bs4.BeautifulSoup(step, features=\"html.parser\")\n",
                        "/home/xkadlci2/gadgets/gadgets/markup.py:14: MarkupResemblesLocatorWarning: The input looks more like a filename than markup. You may want to open this file and pass the filehandle into Beautiful Soup.\n",
                        "  return bs4.BeautifulSoup(step, features=\"html.parser\")\n",
                        "/home/xkadlci2/gadgets/gadgets/markup.py:14: MarkupResemblesLocatorWarning: The input looks more like a filename than markup. You may want to open this file and pass the filehandle into Beautiful Soup.\n",
                        "  return bs4.BeautifulSoup(step, features=\"html.parser\")\n",
                        "/home/xkadlci2/gadgets/gadgets/markup.py:14: MarkupResemblesLocatorWarning: The input looks more like a filename than markup. You may want to open this file and pass the filehandle into Beautiful Soup.\n",
                        "  return bs4.BeautifulSoup(step, features=\"html.parser\")\n",
                        "/home/xkadlci2/gadgets/gadgets/markup.py:14: MarkupResemblesLocatorWarning: The input looks more like a filename than markup. You may want to open this file and pass the filehandle into Beautiful Soup.\n",
                        "  return bs4.BeautifulSoup(step, features=\"html.parser\")\n",
                        "/home/xkadlci2/gadgets/gadgets/markup.py:14: MarkupResemblesLocatorWarning: The input looks more like a filename than markup. You may want to open this file and pass the filehandle into Beautiful Soup.\n",
                        "  return bs4.BeautifulSoup(step, features=\"html.parser\")\n",
                        "/home/xkadlci2/gadgets/gadgets/markup.py:14: MarkupResemblesLocatorWarning: The input looks more like a filename than markup. You may want to open this file and pass the filehandle into Beautiful Soup.\n",
                        "  return bs4.BeautifulSoup(step, features=\"html.parser\")\n",
                        "/home/xkadlci2/gadgets/gadgets/markup.py:14: MarkupResemblesLocatorWarning: The input looks more like a filename than markup. You may want to open this file and pass the filehandle into Beautiful Soup.\n",
                        "  return bs4.BeautifulSoup(step, features=\"html.parser\")\n",
                        "/home/xkadlci2/gadgets/gadgets/markup.py:14: MarkupResemblesLocatorWarning: The input looks more like a filename than markup. You may want to open this file and pass the filehandle into Beautiful Soup.\n",
                        "  return bs4.BeautifulSoup(step, features=\"html.parser\")\n",
                        "/home/xkadlci2/gadgets/gadgets/markup.py:14: MarkupResemblesLocatorWarning: The input looks more like a filename than markup. You may want to open this file and pass the filehandle into Beautiful Soup.\n",
                        "  return bs4.BeautifulSoup(step, features=\"html.parser\")\n",
                        "/home/xkadlci2/gadgets/gadgets/markup.py:14: MarkupResemblesLocatorWarning: The input looks more like a filename than markup. You may want to open this file and pass the filehandle into Beautiful Soup.\n",
                        "  return bs4.BeautifulSoup(step, features=\"html.parser\")\n",
                        "/home/xkadlci2/gadgets/gadgets/markup.py:14: MarkupResemblesLocatorWarning: The input looks more like a filename than markup. You may want to open this file and pass the filehandle into Beautiful Soup.\n",
                        "  return bs4.BeautifulSoup(step, features=\"html.parser\")\n",
                        "/home/xkadlci2/gadgets/gadgets/markup.py:14: MarkupResemblesLocatorWarning: The input looks more like a filename than markup. You may want to open this file and pass the filehandle into Beautiful Soup.\n",
                        "  return bs4.BeautifulSoup(step, features=\"html.parser\")\n",
                        "/home/xkadlci2/gadgets/gadgets/markup.py:14: MarkupResemblesLocatorWarning: The input looks more like a filename than markup. You may want to open this file and pass the filehandle into Beautiful Soup.\n",
                        "  return bs4.BeautifulSoup(step, features=\"html.parser\")\n",
                        "/home/xkadlci2/gadgets/gadgets/markup.py:14: MarkupResemblesLocatorWarning: The input looks more like a filename than markup. You may want to open this file and pass the filehandle into Beautiful Soup.\n",
                        "  return bs4.BeautifulSoup(step, features=\"html.parser\")\n",
                        "/home/xkadlci2/gadgets/gadgets/markup.py:14: MarkupResemblesLocatorWarning: The input looks more like a filename than markup. You may want to open this file and pass the filehandle into Beautiful Soup.\n",
                        "  return bs4.BeautifulSoup(step, features=\"html.parser\")\n",
                        "/home/xkadlci2/gadgets/gadgets/markup.py:14: MarkupResemblesLocatorWarning: The input looks more like a filename than markup. You may want to open this file and pass the filehandle into Beautiful Soup.\n",
                        "  return bs4.BeautifulSoup(step, features=\"html.parser\")\n",
                        "/home/xkadlci2/gadgets/gadgets/markup.py:14: MarkupResemblesLocatorWarning: The input looks more like a filename than markup. You may want to open this file and pass the filehandle into Beautiful Soup.\n",
                        "  return bs4.BeautifulSoup(step, features=\"html.parser\")\n",
                        "/home/xkadlci2/gadgets/gadgets/markup.py:14: MarkupResemblesLocatorWarning: The input looks more like a filename than markup. You may want to open this file and pass the filehandle into Beautiful Soup.\n",
                        "  return bs4.BeautifulSoup(step, features=\"html.parser\")\n",
                        "/home/xkadlci2/gadgets/gadgets/markup.py:14: MarkupResemblesLocatorWarning: The input looks more like a filename than markup. You may want to open this file and pass the filehandle into Beautiful Soup.\n",
                        "  return bs4.BeautifulSoup(step, features=\"html.parser\")\n",
                        "/home/xkadlci2/gadgets/gadgets/markup.py:14: MarkupResemblesLocatorWarning: The input looks more like a filename than markup. You may want to open this file and pass the filehandle into Beautiful Soup.\n",
                        "  return bs4.BeautifulSoup(step, features=\"html.parser\")\n",
                        "/home/xkadlci2/gadgets/gadgets/markup.py:14: MarkupResemblesLocatorWarning: The input looks more like a filename than markup. You may want to open this file and pass the filehandle into Beautiful Soup.\n",
                        "  return bs4.BeautifulSoup(step, features=\"html.parser\")\n",
                        "/home/xkadlci2/gadgets/gadgets/markup.py:14: MarkupResemblesLocatorWarning: The input looks more like a filename than markup. You may want to open this file and pass the filehandle into Beautiful Soup.\n",
                        "  return bs4.BeautifulSoup(step, features=\"html.parser\")\n"
                    ]
                },
                {
                    "data": {
                        "application/vnd.jupyter.widget-view+json": {
                            "model_id": "ac567cf7cf014d96b6e33a565572c6f7",
                            "version_major": 2,
                            "version_minor": 0
                        },
                        "text/plain": [
                            "VBox(children=(HBox(children=(IntProgress(value=0, description='0.00%', max=7), Label(value='0 / 7'))), HBox(c…"
                        ]
                    },
                    "metadata": {},
                    "output_type": "display_data"
                },
                {
                    "name": "stderr",
                    "output_type": "stream",
                    "text": [
                        "/home/xkadlci2/gadgets/gadgets/markup.py:14: MarkupResemblesLocatorWarning: The input looks more like a filename than markup. You may want to open this file and pass the filehandle into Beautiful Soup.\n",
                        "  return bs4.BeautifulSoup(step, features=\"html.parser\")\n",
                        "/home/xkadlci2/gadgets/gadgets/markup.py:14: MarkupResemblesLocatorWarning: The input looks more like a filename than markup. You may want to open this file and pass the filehandle into Beautiful Soup.\n",
                        "  return bs4.BeautifulSoup(step, features=\"html.parser\")\n",
                        "/home/xkadlci2/gadgets/gadgets/markup.py:14: MarkupResemblesLocatorWarning: The input looks more like a filename than markup. You may want to open this file and pass the filehandle into Beautiful Soup.\n",
                        "  return bs4.BeautifulSoup(step, features=\"html.parser\")\n",
                        "/home/xkadlci2/gadgets/gadgets/markup.py:14: MarkupResemblesLocatorWarning: The input looks more like a filename than markup. You may want to open this file and pass the filehandle into Beautiful Soup.\n",
                        "  return bs4.BeautifulSoup(step, features=\"html.parser\")\n",
                        "/home/xkadlci2/gadgets/gadgets/markup.py:14: MarkupResemblesLocatorWarning: The input looks more like a filename than markup. You may want to open this file and pass the filehandle into Beautiful Soup.\n",
                        "  return bs4.BeautifulSoup(step, features=\"html.parser\")\n",
                        "/home/xkadlci2/gadgets/gadgets/markup.py:14: MarkupResemblesLocatorWarning: The input looks more like a filename than markup. You may want to open this file and pass the filehandle into Beautiful Soup.\n",
                        "  return bs4.BeautifulSoup(step, features=\"html.parser\")\n",
                        "/home/xkadlci2/gadgets/gadgets/markup.py:14: MarkupResemblesLocatorWarning: The input looks more like a filename than markup. You may want to open this file and pass the filehandle into Beautiful Soup.\n",
                        "  return bs4.BeautifulSoup(step, features=\"html.parser\")\n",
                        "/home/xkadlci2/gadgets/gadgets/markup.py:14: MarkupResemblesLocatorWarning: The input looks more like a filename than markup. You may want to open this file and pass the filehandle into Beautiful Soup.\n",
                        "  return bs4.BeautifulSoup(step, features=\"html.parser\")\n",
                        "/home/xkadlci2/gadgets/gadgets/markup.py:14: MarkupResemblesLocatorWarning: The input looks more like a filename than markup. You may want to open this file and pass the filehandle into Beautiful Soup.\n",
                        "  return bs4.BeautifulSoup(step, features=\"html.parser\")\n",
                        "/home/xkadlci2/gadgets/gadgets/markup.py:14: MarkupResemblesLocatorWarning: The input looks more like a filename than markup. You may want to open this file and pass the filehandle into Beautiful Soup.\n",
                        "  return bs4.BeautifulSoup(step, features=\"html.parser\")\n",
                        "/home/xkadlci2/gadgets/gadgets/markup.py:14: MarkupResemblesLocatorWarning: The input looks more like a filename than markup. You may want to open this file and pass the filehandle into Beautiful Soup.\n",
                        "  return bs4.BeautifulSoup(step, features=\"html.parser\")\n",
                        "/home/xkadlci2/gadgets/gadgets/markup.py:14: MarkupResemblesLocatorWarning: The input looks more like a filename than markup. You may want to open this file and pass the filehandle into Beautiful Soup.\n",
                        "  return bs4.BeautifulSoup(step, features=\"html.parser\")\n",
                        "/home/xkadlci2/gadgets/gadgets/markup.py:14: MarkupResemblesLocatorWarning: The input looks more like a filename than markup. You may want to open this file and pass the filehandle into Beautiful Soup.\n",
                        "  return bs4.BeautifulSoup(step, features=\"html.parser\")\n",
                        "/home/xkadlci2/gadgets/gadgets/markup.py:14: MarkupResemblesLocatorWarning: The input looks more like a filename than markup. You may want to open this file and pass the filehandle into Beautiful Soup.\n",
                        "  return bs4.BeautifulSoup(step, features=\"html.parser\")\n",
                        "/home/xkadlci2/gadgets/gadgets/markup.py:14: MarkupResemblesLocatorWarning: The input looks more like a filename than markup. You may want to open this file and pass the filehandle into Beautiful Soup.\n",
                        "  return bs4.BeautifulSoup(step, features=\"html.parser\")\n",
                        "/home/xkadlci2/gadgets/gadgets/markup.py:14: MarkupResemblesLocatorWarning: The input looks more like a filename than markup. You may want to open this file and pass the filehandle into Beautiful Soup.\n",
                        "  return bs4.BeautifulSoup(step, features=\"html.parser\")\n",
                        "/home/xkadlci2/gadgets/gadgets/markup.py:14: MarkupResemblesLocatorWarning: The input looks more like a filename than markup. You may want to open this file and pass the filehandle into Beautiful Soup.\n",
                        "  return bs4.BeautifulSoup(step, features=\"html.parser\")\n",
                        "/home/xkadlci2/gadgets/gadgets/markup.py:14: MarkupResemblesLocatorWarning: The input looks more like a filename than markup. You may want to open this file and pass the filehandle into Beautiful Soup.\n",
                        "  return bs4.BeautifulSoup(step, features=\"html.parser\")\n",
                        "/home/xkadlci2/gadgets/gadgets/markup.py:14: MarkupResemblesLocatorWarning: The input looks more like a filename than markup. You may want to open this file and pass the filehandle into Beautiful Soup.\n",
                        "  return bs4.BeautifulSoup(step, features=\"html.parser\")\n",
                        "/home/xkadlci2/gadgets/gadgets/markup.py:14: MarkupResemblesLocatorWarning: The input looks more like a filename than markup. You may want to open this file and pass the filehandle into Beautiful Soup.\n",
                        "  return bs4.BeautifulSoup(step, features=\"html.parser\")\n",
                        "/home/xkadlci2/gadgets/gadgets/markup.py:14: MarkupResemblesLocatorWarning: The input looks more like a filename than markup. You may want to open this file and pass the filehandle into Beautiful Soup.\n",
                        "  return bs4.BeautifulSoup(step, features=\"html.parser\")\n",
                        "/home/xkadlci2/gadgets/gadgets/markup.py:14: MarkupResemblesLocatorWarning: The input looks more like a filename than markup. You may want to open this file and pass the filehandle into Beautiful Soup.\n",
                        "  return bs4.BeautifulSoup(step, features=\"html.parser\")\n",
                        "/home/xkadlci2/gadgets/gadgets/markup.py:14: MarkupResemblesLocatorWarning: The input looks more like a filename than markup. You may want to open this file and pass the filehandle into Beautiful Soup.\n",
                        "  return bs4.BeautifulSoup(step, features=\"html.parser\")\n",
                        "/home/xkadlci2/gadgets/gadgets/markup.py:14: MarkupResemblesLocatorWarning: The input looks more like a filename than markup. You may want to open this file and pass the filehandle into Beautiful Soup.\n",
                        "  return bs4.BeautifulSoup(step, features=\"html.parser\")\n",
                        "/home/xkadlci2/gadgets/gadgets/markup.py:14: MarkupResemblesLocatorWarning: The input looks more like a filename than markup. You may want to open this file and pass the filehandle into Beautiful Soup.\n",
                        "  return bs4.BeautifulSoup(step, features=\"html.parser\")\n",
                        "/home/xkadlci2/gadgets/gadgets/markup.py:14: MarkupResemblesLocatorWarning: The input looks more like a filename than markup. You may want to open this file and pass the filehandle into Beautiful Soup.\n",
                        "  return bs4.BeautifulSoup(step, features=\"html.parser\")\n",
                        "/home/xkadlci2/gadgets/gadgets/markup.py:14: MarkupResemblesLocatorWarning: The input looks more like a filename than markup. You may want to open this file and pass the filehandle into Beautiful Soup.\n",
                        "  return bs4.BeautifulSoup(step, features=\"html.parser\")\n",
                        "/home/xkadlci2/gadgets/gadgets/markup.py:14: MarkupResemblesLocatorWarning: The input looks more like a filename than markup. You may want to open this file and pass the filehandle into Beautiful Soup.\n",
                        "  return bs4.BeautifulSoup(step, features=\"html.parser\")\n",
                        "/home/xkadlci2/gadgets/gadgets/markup.py:14: MarkupResemblesLocatorWarning: The input looks more like a filename than markup. You may want to open this file and pass the filehandle into Beautiful Soup.\n",
                        "  return bs4.BeautifulSoup(step, features=\"html.parser\")\n",
                        "/home/xkadlci2/gadgets/gadgets/markup.py:14: MarkupResemblesLocatorWarning: The input looks more like a filename than markup. You may want to open this file and pass the filehandle into Beautiful Soup.\n",
                        "  return bs4.BeautifulSoup(step, features=\"html.parser\")\n",
                        "/home/xkadlci2/gadgets/gadgets/markup.py:14: MarkupResemblesLocatorWarning: The input looks more like a filename than markup. You may want to open this file and pass the filehandle into Beautiful Soup.\n",
                        "  return bs4.BeautifulSoup(step, features=\"html.parser\")\n",
                        "/home/xkadlci2/gadgets/gadgets/markup.py:14: MarkupResemblesLocatorWarning: The input looks more like a filename than markup. You may want to open this file and pass the filehandle into Beautiful Soup.\n",
                        "  return bs4.BeautifulSoup(step, features=\"html.parser\")\n",
                        "/home/xkadlci2/gadgets/gadgets/markup.py:14: MarkupResemblesLocatorWarning: The input looks more like a filename than markup. You may want to open this file and pass the filehandle into Beautiful Soup.\n",
                        "  return bs4.BeautifulSoup(step, features=\"html.parser\")\n",
                        "/home/xkadlci2/gadgets/gadgets/markup.py:14: MarkupResemblesLocatorWarning: The input looks more like a filename than markup. You may want to open this file and pass the filehandle into Beautiful Soup.\n",
                        "  return bs4.BeautifulSoup(step, features=\"html.parser\")\n",
                        "/home/xkadlci2/gadgets/gadgets/markup.py:14: MarkupResemblesLocatorWarning: The input looks more like a filename than markup. You may want to open this file and pass the filehandle into Beautiful Soup.\n",
                        "  return bs4.BeautifulSoup(step, features=\"html.parser\")\n",
                        "/home/xkadlci2/gadgets/gadgets/markup.py:14: MarkupResemblesLocatorWarning: The input looks more like a filename than markup. You may want to open this file and pass the filehandle into Beautiful Soup.\n",
                        "  return bs4.BeautifulSoup(step, features=\"html.parser\")\n",
                        "/home/xkadlci2/gadgets/gadgets/markup.py:14: MarkupResemblesLocatorWarning: The input looks more like a filename than markup. You may want to open this file and pass the filehandle into Beautiful Soup.\n",
                        "  return bs4.BeautifulSoup(step, features=\"html.parser\")\n",
                        "/home/xkadlci2/gadgets/gadgets/markup.py:14: MarkupResemblesLocatorWarning: The input looks more like a filename than markup. You may want to open this file and pass the filehandle into Beautiful Soup.\n",
                        "  return bs4.BeautifulSoup(step, features=\"html.parser\")\n",
                        "/home/xkadlci2/gadgets/gadgets/markup.py:14: MarkupResemblesLocatorWarning: The input looks more like a filename than markup. You may want to open this file and pass the filehandle into Beautiful Soup.\n",
                        "  return bs4.BeautifulSoup(step, features=\"html.parser\")\n",
                        "/home/xkadlci2/gadgets/gadgets/markup.py:14: MarkupResemblesLocatorWarning: The input looks more like a filename than markup. You may want to open this file and pass the filehandle into Beautiful Soup.\n",
                        "  return bs4.BeautifulSoup(step, features=\"html.parser\")\n"
                    ]
                }
            ],
            "source": [
                "def transform_chain(row) -> str:\n",
                "    example = gadgets.aqua.parse(row.to_dict())\n",
                "    markup = gadgets.markup.to_model_markup(example=example)\n",
                "    return str(markup)\n",
                "\n",
                "for split in orig_aqua.keys():\n",
                "    aqua[split][\"chain\"] = orig_aqua[split].to_pandas().parallel_apply(transform_chain, axis=1)"
            ]
        },
        {
            "cell_type": "code",
            "execution_count": 40,
            "metadata": {},
            "outputs": [],
            "source": [
                "prompt_selects = [\"Options\", \"Choices\", \"Choose one\", \"Pick one\", \"Select the correct option\", \"Select\", \"Pick\", \"Answers\", \"Choose the most appropriate option\", \"Choose the correct option\", \"Choose the correct answer\", \"Choose the correct choice\", \"Choose the correct choice from the following\", \"Choose the correct choice from the following options\", \"Choose the correct choice from the following answers\", \"Choose the correct choice from the following answers\", \"Choose the correct choice from the following choices\"]\n",
                "prompt_select_seps = [\".\\n\", \":\", \":\\n\", \"\\n\"]\n",
                "whitespace_seps = [\" \", \"  \", \"\\n\", \"\\t\"]\n",
                "\n",
                "def format_question_with_options(question: str, options: dict[str, str]):\n",
                "    prompt_select = random.choice(prompt_selects)\n",
                "    sep_1 = random.choice(whitespace_seps)\n",
                "    sep_2 = random.choice(prompt_select_seps)\n",
                "    sep_3 = random.choice(whitespace_seps)\n",
                "    if not sep_2.endswith(\"\\n\"):\n",
                "        sep_2 += sep_3\n",
                "    return question + sep_1 + prompt_select + sep_2 + sep_3.join(f\"{k.upper()}) {v}\" for k, v in options.items())\n",
                "    "
            ]
        },
        {
            "cell_type": "code",
            "execution_count": 41,
            "metadata": {},
            "outputs": [],
            "source": [
                "aqua[\"train\"].head()\n",
                "random.seed(42)\n",
                "for split in aqua.keys():\n",
                "    aqua[split] = pd.DataFrame({\n",
                "        \"id\": aqua[split][\"id\"],\n",
                "        \"question\": [format_question_with_options(q, o) for q, o in zip(aqua[split][\"question\"], aqua[split][\"options\"])],\n",
                "        \"chain\": aqua[split][\"chain\"],\n",
                "        \"result\": aqua[split][\"correct\"],\n",
                "        \"options\": aqua[split][\"options\"],\n",
                "        \"question_without_options\": aqua[split][\"question\"],\n",
                "    })\n",
                "    "
            ]
        },
        {
            "cell_type": "code",
            "execution_count": 42,
            "metadata": {},
            "outputs": [
                {
                    "data": {
                        "text/plain": [
                            "{'id': 'aqua_rat__TeUuCx2QFEzwmZzg',\n",
                            " 'question': \"Two friends plan to walk along a 43-km trail, starting at opposite ends of the trail at the same time. If Friend P's rate is 15% faster than Friend Q's, how many kilometers will Friend P have walked when they pass each other? Pick one:\\nA) 21  B) 21.5  C) 22  D) 22.5  E) 23\",\n",
                            " 'chain': 'If Q complete x kilometers, then P completes 1.15x kilometers.   x + 1.15x = 43   2.15x=43   x = 43/2.15= \\n<gadget id=\"calculator\">43/2.15</gadget>\\n<output>20</output>\\n20   Then P will have have walked   1.15*20= \\n<gadget id=\"calculator\">  1.15*20</gadget>\\n<output>23</output>\\n23 km.   The answer is 23.\\n<result>E</result>',\n",
                            " 'result': 'E',\n",
                            " 'options': {'A': '21', 'B': '21.5', 'C': '22', 'D': '22.5', 'E': '23'},\n",
                            " 'question_without_options': \"Two friends plan to walk along a 43-km trail, starting at opposite ends of the trail at the same time. If Friend P's rate is 15% faster than Friend Q's, how many kilometers will Friend P have walked when they pass each other?\"}"
                        ]
                    },
                    "execution_count": 42,
                    "metadata": {},
                    "output_type": "execute_result"
                }
            ],
            "source": [
                "aqua[\"train\"].iloc[0].to_dict()"
            ]
        },
        {
            "cell_type": "code",
            "execution_count": 43,
            "metadata": {},
            "outputs": [
                {
                    "data": {
                        "application/vnd.jupyter.widget-view+json": {
                            "model_id": "2db08774f620420790686ce492a615d7",
                            "version_major": 2,
                            "version_minor": 0
                        },
                        "text/plain": [
                            "Pushing dataset shards to the dataset hub:   0%|          | 0/1 [00:00<?, ?it/s]"
                        ]
                    },
                    "metadata": {},
                    "output_type": "display_data"
                },
                {
                    "data": {
                        "application/vnd.jupyter.widget-view+json": {
                            "model_id": "d8a5e8aec75a4037990a7fc7d866d212",
                            "version_major": 2,
                            "version_minor": 0
                        },
                        "text/plain": [
                            "Creating parquet from Arrow format:   0%|          | 0/98 [00:00<?, ?ba/s]"
                        ]
                    },
                    "metadata": {},
                    "output_type": "display_data"
                },
                {
                    "data": {
                        "application/vnd.jupyter.widget-view+json": {
                            "model_id": "da9e926c927d4121992f6bbf461aa75f",
                            "version_major": 2,
                            "version_minor": 0
                        },
                        "text/plain": [
                            "Deleting unused files from dataset repository:   0%|          | 0/1 [00:00<?, ?it/s]"
                        ]
                    },
                    "metadata": {},
                    "output_type": "display_data"
                },
                {
                    "data": {
                        "application/vnd.jupyter.widget-view+json": {
                            "model_id": "0bf15b7e205c44479ba054caa15f0414",
                            "version_major": 2,
                            "version_minor": 0
                        },
                        "text/plain": [
                            "Pushing dataset shards to the dataset hub:   0%|          | 0/1 [00:00<?, ?it/s]"
                        ]
                    },
                    "metadata": {},
                    "output_type": "display_data"
                },
                {
                    "data": {
                        "application/vnd.jupyter.widget-view+json": {
                            "model_id": "e2b8e7e5f9d24260aa9f2db63fb4c046",
                            "version_major": 2,
                            "version_minor": 0
                        },
                        "text/plain": [
                            "Creating parquet from Arrow format:   0%|          | 0/1 [00:00<?, ?ba/s]"
                        ]
                    },
                    "metadata": {},
                    "output_type": "display_data"
                },
                {
                    "data": {
                        "application/vnd.jupyter.widget-view+json": {
                            "model_id": "b2640f9d79984a9f8dbfb0e743a2883c",
                            "version_major": 2,
                            "version_minor": 0
                        },
                        "text/plain": [
                            "Deleting unused files from dataset repository:   0%|          | 0/1 [00:00<?, ?it/s]"
                        ]
                    },
                    "metadata": {},
                    "output_type": "display_data"
                },
                {
                    "data": {
                        "application/vnd.jupyter.widget-view+json": {
                            "model_id": "18d2a726214e49a68f89f30ed4e98bd0",
                            "version_major": 2,
                            "version_minor": 0
                        },
                        "text/plain": [
                            "Pushing dataset shards to the dataset hub:   0%|          | 0/1 [00:00<?, ?it/s]"
                        ]
                    },
                    "metadata": {},
                    "output_type": "display_data"
                },
                {
                    "data": {
                        "application/vnd.jupyter.widget-view+json": {
                            "model_id": "65c3fe210bb74d0ca69665baa56bfc59",
                            "version_major": 2,
                            "version_minor": 0
                        },
                        "text/plain": [
                            "Creating parquet from Arrow format:   0%|          | 0/1 [00:00<?, ?ba/s]"
                        ]
                    },
                    "metadata": {},
                    "output_type": "display_data"
                },
                {
                    "data": {
                        "application/vnd.jupyter.widget-view+json": {
                            "model_id": "24ad900c77644673b3b022e9fe9e643f",
                            "version_major": 2,
                            "version_minor": 0
                        },
                        "text/plain": [
                            "Deleting unused files from dataset repository:   0%|          | 0/1 [00:00<?, ?it/s]"
                        ]
                    },
                    "metadata": {},
                    "output_type": "display_data"
                },
                {
                    "data": {
                        "application/vnd.jupyter.widget-view+json": {
                            "model_id": "86255ad582ca44efaaf5973c3a6041d4",
                            "version_major": 2,
                            "version_minor": 0
                        },
                        "text/plain": [
                            "Downloading metadata:   0%|          | 0.00/5.30k [00:00<?, ?B/s]"
                        ]
                    },
                    "metadata": {},
                    "output_type": "display_data"
                }
            ],
            "source": [
                "ds = datasets.DatasetDict({\n",
                "    \"train\": datasets.Dataset.from_pandas(aqua[\"train\"]),\n",
                "    \"validation\": datasets.Dataset.from_pandas(aqua[\"validation\"]),\n",
                "    \"test\": datasets.Dataset.from_pandas(aqua[\"test\"]),\n",
                "})\n",
                "\n",
                "#ds.push_to_hub(\"anonym-repos/Calc-aqua_rat\", config_name=\"original-splits\")"
            ]
        },
        {
            "cell_type": "code",
            "execution_count": null,
            "metadata": {},
            "outputs": [],
            "source": []
        }
    ],
    "metadata": {
        "kernelspec": {
            "display_name": "gadgets",
            "language": "python",
            "name": "python3"
        },
        "language_info": {
            "codemirror_mode": {
                "name": "ipython",
                "version": 3
            },
            "file_extension": ".py",
            "mimetype": "text/x-python",
            "name": "python",
            "nbconvert_exporter": "python",
            "pygments_lexer": "ipython3",
            "version": "3.10.12"
        }
    },
    "nbformat": 4,
    "nbformat_minor": 2
}